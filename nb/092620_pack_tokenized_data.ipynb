{
 "cells": [
  {
   "cell_type": "code",
   "execution_count": 2,
   "metadata": {},
   "outputs": [
    {
     "name": "stdout",
     "output_type": "stream",
     "text": [
      "/home/ajay/contracode\n"
     ]
    }
   ],
   "source": [
    "%cd ~/contracode\n",
    "import numpy as np\n",
    "import pickle\n",
    "import gzip\n",
    "from tqdm.auto import tqdm\n",
    "import pandas as pd\n",
    "import time\n",
    "from typing import Iterable\n",
    "from loguru import logger\n",
    "import multiprocessing as mp\n",
    "# import modin.pandas as pd\n",
    "import torch\n",
    "import torch.nn as nn\n",
    "from torch.utils.data.dataset import Dataset\n",
    "from transformers import BertTokenizerFast\n",
    "from representjs import DATA_DIR\n",
    "from tqdm import tqdm\n",
    "# import swifter"
   ]
  },
  {
   "cell_type": "markdown",
   "metadata": {},
   "source": [
    "# Shard the train set for tokenization"
   ]
  },
  {
   "cell_type": "code",
   "execution_count": null,
   "metadata": {},
   "outputs": [],
   "source": [
    "# train_df = load_data(\"/data/ajay/contracode/data/hf_data/augmented_pretrain_df.train.pickle.gz\")"
   ]
  },
  {
   "cell_type": "code",
   "execution_count": 33,
   "metadata": {},
   "outputs": [],
   "source": [
    "from multiprocessing.pool import ThreadPool\n",
    "\n",
    "def split_df(df, save_pattern, num_chunks=160):\n",
    "    # Split data frame into chunks\n",
    "    chunk_size = int(df.shape[0] / num_chunks)\n",
    "    def save_data(data):\n",
    "        chunk_i, start, chunk_size, df, save_pattern = data\n",
    "        save_path = save_pattern.format(chunk_i)\n",
    "        df_subset = df.iloc[start : start + chunk_size]\n",
    "        df_subset.to_pickle(save_path)\n",
    "        print(\"Saved \", save_path)\n",
    "    items = [(i, start, chunk_size, df, save_pattern) for i, start in enumerate(range(0, df.shape[0], chunk_size))]\n",
    "    with ThreadPool(64) as pool:\n",
    "        pool.map(save_data, items)"
   ]
  },
  {
   "cell_type": "code",
   "execution_count": 34,
   "metadata": {},
   "outputs": [
    {
     "name": "stdout",
     "output_type": "stream",
     "text": [
      "Saved  /data/ajay/contracode/data/hf_data/train_chunks/augmented_pretrain_df.0002.train.pickle.gz\n",
      "Saved  /data/ajay/contracode/data/hf_data/train_chunks/augmented_pretrain_df.0009.train.pickle.gz\n",
      "Saved  /data/ajay/contracode/data/hf_data/train_chunks/augmented_pretrain_df.0012.train.pickle.gz\n",
      "Saved Saved  /data/ajay/contracode/data/hf_data/train_chunks/augmented_pretrain_df.0006.train.pickle.gz\n",
      "Saved  /data/ajay/contracode/data/hf_data/train_chunks/augmented_pretrain_df.0022.train.pickle.gz\n",
      " /data/ajay/contracode/data/hf_data/train_chunks/augmented_pretrain_df.0000.train.pickle.gzSaved  /data/ajay/contracode/data/hf_data/train_chunks/augmented_pretrain_df.0019.train.pickle.gz\n",
      "\n",
      "Saved  /data/ajay/contracode/data/hf_data/train_chunks/augmented_pretrain_df.0004.train.pickle.gz\n",
      "Saved  /data/ajay/contracode/data/hf_data/train_chunks/augmented_pretrain_df.0026.train.pickle.gz\n",
      "Saved  /data/ajay/contracode/data/hf_data/train_chunks/augmented_pretrain_df.0016.train.pickle.gz\n",
      "Saved  /data/ajay/contracode/data/hf_data/train_chunks/augmented_pretrain_df.0032.train.pickle.gz\n",
      "Saved  /data/ajay/contracode/data/hf_data/train_chunks/augmented_pretrain_df.0029.train.pickle.gz\n",
      "Saved Saved  /data/ajay/contracode/data/hf_data/train_chunks/augmented_pretrain_df.0035.train.pickle.gz\n",
      "Saved  /data/ajay/contracode/data/hf_data/train_chunks/augmented_pretrain_df.0001.train.pickle.gz\n",
      " /data/ajay/contracode/data/hf_data/train_chunks/augmented_pretrain_df.0041.train.pickle.gz\n",
      "Saved  /data/ajay/contracode/data/hf_data/train_chunks/augmented_pretrain_df.0044.train.pickle.gz\n",
      "Saved Saved  /data/ajay/contracode/data/hf_data/train_chunks/augmented_pretrain_df.0003.train.pickle.gz\n",
      "Saved   /data/ajay/contracode/data/hf_data/train_chunks/augmented_pretrain_df.0008.train.pickle.gz\n",
      "/data/ajay/contracode/data/hf_data/train_chunks/augmented_pretrain_df.0015.train.pickle.gzSaved  /data/ajay/contracode/data/hf_data/train_chunks/augmented_pretrain_df.0038.train.pickle.gz\n",
      "Saved  /data/ajay/contracode/data/hf_data/train_chunks/augmented_pretrain_df.0047.train.pickle.gz\n",
      "Saved  /data/ajay/contracode/data/hf_data/train_chunks/augmented_pretrain_df.0025.train.pickle.gz\n",
      "\n",
      "Saved  /data/ajay/contracode/data/hf_data/train_chunks/augmented_pretrain_df.0021.train.pickle.gz\n",
      "Saved  /data/ajay/contracode/data/hf_data/train_chunks/augmented_pretrain_df.0036.train.pickle.gz\n",
      "Saved  /data/ajay/contracode/data/hf_data/train_chunks/augmented_pretrain_df.0062.train.pickle.gz\n",
      "Saved  /data/ajay/contracode/data/hf_data/train_chunks/augmented_pretrain_df.0056.train.pickle.gz\n",
      "Saved  /data/ajay/contracode/data/hf_data/train_chunks/augmented_pretrain_df.0059.train.pickle.gz\n",
      "Saved  /data/ajay/contracode/data/hf_data/train_chunks/augmented_pretrain_df.0054.train.pickle.gz\n",
      "Saved  /data/ajay/contracode/data/hf_data/train_chunks/augmented_pretrain_df.0040.train.pickle.gz\n",
      "Saved  /data/ajay/contracode/data/hf_data/train_chunks/augmented_pretrain_df.0046.train.pickle.gzSaved  \n",
      "/data/ajay/contracode/data/hf_data/train_chunks/augmented_pretrain_df.0017.train.pickle.gz\n",
      "Saved  /data/ajay/contracode/data/hf_data/train_chunks/augmented_pretrain_df.0055.train.pickle.gzSaved  /data/ajay/contracode/data/hf_data/train_chunks/augmented_pretrain_df.0063.train.pickle.gz\n",
      "\n",
      "Saved Saved  /data/ajay/contracode/data/hf_data/train_chunks/augmented_pretrain_df.0042.train.pickle.gz\n",
      "Saved Saved   /data/ajay/contracode/data/hf_data/train_chunks/augmented_pretrain_df.0020.train.pickle.gz\n",
      " /data/ajay/contracode/data/hf_data/train_chunks/augmented_pretrain_df.0057.train.pickle.gz\n",
      "/data/ajay/contracode/data/hf_data/train_chunks/augmented_pretrain_df.0060.train.pickle.gz\n",
      "Saved  /data/ajay/contracode/data/hf_data/train_chunks/augmented_pretrain_df.0052.train.pickle.gz\n",
      "Saved  Saved  /data/ajay/contracode/data/hf_data/train_chunks/augmented_pretrain_df.0030.train.pickle.gz/data/ajay/contracode/data/hf_data/train_chunks/augmented_pretrain_df.0061.train.pickle.gz\n",
      "\n",
      "Saved Saved Saved  /data/ajay/contracode/data/hf_data/train_chunks/augmented_pretrain_df.0005.train.pickle.gz\n",
      "  /data/ajay/contracode/data/hf_data/train_chunks/augmented_pretrain_df.0058.train.pickle.gz\n",
      "/data/ajay/contracode/data/hf_data/train_chunks/augmented_pretrain_df.0014.train.pickle.gz\n",
      "Saved  /data/ajay/contracode/data/hf_data/train_chunks/augmented_pretrain_df.0037.train.pickle.gz\n",
      "Saved  /data/ajay/contracode/data/hf_data/train_chunks/augmented_pretrain_df.0007.train.pickle.gz\n",
      "Saved  /data/ajay/contracode/data/hf_data/train_chunks/augmented_pretrain_df.0053.train.pickle.gz\n",
      "Saved Saved  /data/ajay/contracode/data/hf_data/train_chunks/augmented_pretrain_df.0045.train.pickle.gz\n",
      "Saved  /data/ajay/contracode/data/hf_data/train_chunks/augmented_pretrain_df.0013.train.pickle.gz\n",
      "Saved  /data/ajay/contracode/data/hf_data/train_chunks/augmented_pretrain_df.0024.train.pickle.gz\n",
      " /data/ajay/contracode/data/hf_data/train_chunks/augmented_pretrain_df.0031.train.pickle.gz\n",
      "Saved  /data/ajay/contracode/data/hf_data/train_chunks/augmented_pretrain_df.0051.train.pickle.gz\n",
      "Saved  /data/ajay/contracode/data/hf_data/train_chunks/augmented_pretrain_df.0011.train.pickle.gz\n",
      "Saved  /data/ajay/contracode/data/hf_data/train_chunks/augmented_pretrain_df.0043.train.pickle.gz\n",
      "Saved  /data/ajay/contracode/data/hf_data/train_chunks/augmented_pretrain_df.0023.train.pickle.gz\n",
      "Saved  /data/ajay/contracode/data/hf_data/train_chunks/augmented_pretrain_df.0028.train.pickle.gz\n",
      "Saved  /data/ajay/contracode/data/hf_data/train_chunks/augmented_pretrain_df.0048.train.pickle.gz\n",
      "Saved  /data/ajay/contracode/data/hf_data/train_chunks/augmented_pretrain_df.0039.train.pickle.gz\n",
      "Saved  /data/ajay/contracode/data/hf_data/train_chunks/augmented_pretrain_df.0049.train.pickle.gz\n",
      "Saved  /data/ajay/contracode/data/hf_data/train_chunks/augmented_pretrain_df.0033.train.pickle.gz\n",
      "Saved  /data/ajay/contracode/data/hf_data/train_chunks/augmented_pretrain_df.0050.train.pickle.gz\n",
      "Saved  /data/ajay/contracode/data/hf_data/train_chunks/augmented_pretrain_df.0020.train.pickle.gz\n",
      "Saved  /data/ajay/contracode/data/hf_data/train_chunks/augmented_pretrain_df.0004.train.pickle.gz\n",
      "Saved  /data/ajay/contracode/data/hf_data/train_chunks/augmented_pretrain_df.0034.train.pickle.gz\n",
      "Saved  /data/ajay/contracode/data/hf_data/train_chunks/augmented_pretrain_df.0027.train.pickle.gz\n",
      "Saved  /data/ajay/contracode/data/hf_data/train_chunks/augmented_pretrain_df.0000.train.pickle.gz\n",
      "Saved  /data/ajay/contracode/data/hf_data/train_chunks/augmented_pretrain_df.0010.train.pickle.gz\n",
      "Saved  /data/ajay/contracode/data/hf_data/train_chunks/augmented_pretrain_df.0017.train.pickle.gz\n",
      "Saved  /data/ajay/contracode/data/hf_data/train_chunks/augmented_pretrain_df.0016.train.pickle.gz\n",
      "Saved  /data/ajay/contracode/data/hf_data/train_chunks/augmented_pretrain_df.0044.train.pickle.gz\n",
      "Saved  /data/ajay/contracode/data/hf_data/train_chunks/augmented_pretrain_df.0007.train.pickle.gz\n",
      "Saved  /data/ajay/contracode/data/hf_data/train_chunks/augmented_pretrain_df.0022.train.pickle.gz\n",
      "Saved  Saved  /data/ajay/contracode/data/hf_data/train_chunks/augmented_pretrain_df.0015.train.pickle.gz\n",
      "/data/ajay/contracode/data/hf_data/train_chunks/augmented_pretrain_df.0025.train.pickle.gz\n",
      "Saved  /data/ajay/contracode/data/hf_data/train_chunks/augmented_pretrain_df.0010.train.pickle.gz\n",
      "Saved Saved  /data/ajay/contracode/data/hf_data/train_chunks/augmented_pretrain_df.0002.train.pickle.gz\n",
      "Saved  /data/ajay/contracode/data/hf_data/train_chunks/augmented_pretrain_df.0026.train.pickle.gz\n",
      "Saved  /data/ajay/contracode/data/hf_data/train_chunks/augmented_pretrain_df.0037.train.pickle.gz\n",
      " /data/ajay/contracode/data/hf_data/train_chunks/augmented_pretrain_df.0041.train.pickle.gz\n",
      "Saved  /data/ajay/contracode/data/hf_data/train_chunks/augmented_pretrain_df.0018.train.pickle.gz\n",
      "Saved  /data/ajay/contracode/data/hf_data/train_chunks/augmented_pretrain_df.0009.train.pickle.gz\n",
      "Saved  /data/ajay/contracode/data/hf_data/train_chunks/augmented_pretrain_df.0021.train.pickle.gz\n",
      "Saved  /data/ajay/contracode/data/hf_data/train_chunks/augmented_pretrain_df.0038.train.pickle.gz\n",
      "Saved  /data/ajay/contracode/data/hf_data/train_chunks/augmented_pretrain_df.0001.train.pickle.gz\n",
      "Saved  /data/ajay/contracode/data/hf_data/train_chunks/augmented_pretrain_df.0014.train.pickle.gz\n"
     ]
    },
    {
     "name": "stdout",
     "output_type": "stream",
     "text": [
      "Saved  /data/ajay/contracode/data/hf_data/train_chunks/augmented_pretrain_df.0040.train.pickle.gz\n",
      "Saved  /data/ajay/contracode/data/hf_data/train_chunks/augmented_pretrain_df.0033.train.pickle.gz\n",
      "Saved  /data/ajay/contracode/data/hf_data/train_chunks/augmented_pretrain_df.0048.train.pickle.gz\n",
      "Saved  /data/ajay/contracode/data/hf_data/train_chunks/augmented_pretrain_df.0045.train.pickle.gz\n",
      "Saved  /data/ajay/contracode/data/hf_data/train_chunks/augmented_pretrain_df.0023.train.pickle.gz\n",
      "Saved  /data/ajay/contracode/data/hf_data/train_chunks/augmented_pretrain_df.0063.train.pickle.gz\n",
      "Saved  /data/ajay/contracode/data/hf_data/train_chunks/augmented_pretrain_df.0024.train.pickle.gz\n",
      "Saved  /data/ajay/contracode/data/hf_data/train_chunks/augmented_pretrain_df.0055.train.pickle.gz\n",
      "Saved  /data/ajay/contracode/data/hf_data/train_chunks/augmented_pretrain_df.0035.train.pickle.gz\n",
      "Saved  /data/ajay/contracode/data/hf_data/train_chunks/augmented_pretrain_df.0012.train.pickle.gz\n",
      "Saved  /data/ajay/contracode/data/hf_data/train_chunks/augmented_pretrain_df.0058.train.pickle.gz\n",
      "Saved  /data/ajay/contracode/data/hf_data/train_chunks/augmented_pretrain_df.0051.train.pickle.gz\n",
      "Saved  /data/ajay/contracode/data/hf_data/train_chunks/augmented_pretrain_df.0043.train.pickle.gz\n",
      "Saved  /data/ajay/contracode/data/hf_data/train_chunks/augmented_pretrain_df.0019.train.pickle.gz\n",
      "Saved  /data/ajay/contracode/data/hf_data/train_chunks/augmented_pretrain_df.0028.train.pickle.gz\n",
      "Saved  Saved  /data/ajay/contracode/data/hf_data/train_chunks/augmented_pretrain_df.0003.train.pickle.gz\n",
      "/data/ajay/contracode/data/hf_data/train_chunks/augmented_pretrain_df.0018.train.pickle.gz\n",
      "Saved  /data/ajay/contracode/data/hf_data/train_chunks/augmented_pretrain_df.0061.train.pickle.gz\n",
      "Saved Saved  /data/ajay/contracode/data/hf_data/train_chunks/augmented_pretrain_df.0011.train.pickle.gz\n",
      " /data/ajay/contracode/data/hf_data/train_chunks/augmented_pretrain_df.0008.train.pickle.gz\n",
      "Saved  /data/ajay/contracode/data/hf_data/train_chunks/augmented_pretrain_df.0032.train.pickle.gz\n",
      "Saved  /data/ajay/contracode/data/hf_data/train_chunks/augmented_pretrain_df.0029.train.pickle.gz\n",
      "Saved  /data/ajay/contracode/data/hf_data/train_chunks/augmented_pretrain_df.0047.train.pickle.gz\n",
      "Saved  /data/ajay/contracode/data/hf_data/train_chunks/augmented_pretrain_df.0062.train.pickle.gz\n",
      "Saved  /data/ajay/contracode/data/hf_data/train_chunks/augmented_pretrain_df.0057.train.pickle.gz\n",
      "Saved Saved  /data/ajay/contracode/data/hf_data/train_chunks/augmented_pretrain_df.0053.train.pickle.gz\n",
      " /data/ajay/contracode/data/hf_data/train_chunks/augmented_pretrain_df.0005.train.pickle.gz\n",
      "Saved Saved  /data/ajay/contracode/data/hf_data/train_chunks/augmented_pretrain_df.0060.train.pickle.gz\n",
      "Saved  /data/ajay/contracode/data/hf_data/train_chunks/augmented_pretrain_df.0056.train.pickle.gz\n",
      "Saved  /data/ajay/contracode/data/hf_data/train_chunks/augmented_pretrain_df.0030.train.pickle.gz\n",
      "Saved  /data/ajay/contracode/data/hf_data/train_chunks/augmented_pretrain_df.0052.train.pickle.gz\n",
      " /data/ajay/contracode/data/hf_data/train_chunks/augmented_pretrain_df.0042.train.pickle.gz\n",
      "Saved  /data/ajay/contracode/data/hf_data/train_chunks/augmented_pretrain_df.0059.train.pickle.gz\n",
      "Saved  /data/ajay/contracode/data/hf_data/train_chunks/augmented_pretrain_df.0046.train.pickle.gz\n",
      "Saved  /data/ajay/contracode/data/hf_data/train_chunks/augmented_pretrain_df.0031.train.pickle.gz\n",
      "Saved  /data/ajay/contracode/data/hf_data/train_chunks/augmented_pretrain_df.0036.train.pickle.gz\n",
      "Saved  /data/ajay/contracode/data/hf_data/train_chunks/augmented_pretrain_df.0049.train.pickle.gz\n",
      "Saved  /data/ajay/contracode/data/hf_data/train_chunks/augmented_pretrain_df.0054.train.pickle.gz\n",
      "Saved  /data/ajay/contracode/data/hf_data/train_chunks/augmented_pretrain_df.0006.train.pickle.gz\n",
      "Saved  /data/ajay/contracode/data/hf_data/train_chunks/augmented_pretrain_df.0050.train.pickle.gz\n",
      "Saved  Saved  /data/ajay/contracode/data/hf_data/train_chunks/augmented_pretrain_df.0027.train.pickle.gz\n",
      "/data/ajay/contracode/data/hf_data/train_chunks/augmented_pretrain_df.0039.train.pickle.gz\n",
      "Saved  /data/ajay/contracode/data/hf_data/train_chunks/augmented_pretrain_df.0066.train.pickle.gz\n",
      "Saved  /data/ajay/contracode/data/hf_data/train_chunks/augmented_pretrain_df.0034.train.pickle.gz\n",
      "Saved  /data/ajay/contracode/data/hf_data/train_chunks/augmented_pretrain_df.0013.train.pickle.gz\n",
      "Saved  /data/ajay/contracode/data/hf_data/train_chunks/augmented_pretrain_df.0065.train.pickle.gz\n",
      "Saved  /data/ajay/contracode/data/hf_data/train_chunks/augmented_pretrain_df.0064.train.pickle.gz\n",
      "Saved  /data/ajay/contracode/data/hf_data/train_chunks/augmented_pretrain_df.0074.train.pickle.gz\n",
      "Saved  /data/ajay/contracode/data/hf_data/train_chunks/augmented_pretrain_df.0070.train.pickle.gz\n",
      "Saved  /data/ajay/contracode/data/hf_data/train_chunks/augmented_pretrain_df.0068.train.pickle.gz\n",
      "Saved  /data/ajay/contracode/data/hf_data/train_chunks/augmented_pretrain_df.0067.train.pickle.gz\n",
      "Saved  /data/ajay/contracode/data/hf_data/train_chunks/augmented_pretrain_df.0073.train.pickle.gz\n",
      "Saved  /data/ajay/contracode/data/hf_data/train_chunks/augmented_pretrain_df.0072.train.pickle.gz\n",
      "Saved  /data/ajay/contracode/data/hf_data/train_chunks/augmented_pretrain_df.0069.train.pickle.gz\n",
      "Saved  /data/ajay/contracode/data/hf_data/train_chunks/augmented_pretrain_df.0071.train.pickle.gz\n",
      "Saved  /data/ajay/contracode/data/hf_data/train_chunks/augmented_pretrain_df.0079.train.pickle.gz\n",
      "Saved Saved  /data/ajay/contracode/data/hf_data/train_chunks/augmented_pretrain_df.0078.train.pickle.gz\n",
      " /data/ajay/contracode/data/hf_data/train_chunks/augmented_pretrain_df.0076.train.pickle.gz\n",
      "Saved  /data/ajay/contracode/data/hf_data/train_chunks/augmented_pretrain_df.0081.train.pickle.gz\n",
      "Saved  /data/ajay/contracode/data/hf_data/train_chunks/augmented_pretrain_df.0077.train.pickle.gz\n",
      "Saved  /data/ajay/contracode/data/hf_data/train_chunks/augmented_pretrain_df.0075.train.pickle.gz\n",
      "Saved  /data/ajay/contracode/data/hf_data/train_chunks/augmented_pretrain_df.0089.train.pickle.gz\n",
      "Saved  /data/ajay/contracode/data/hf_data/train_chunks/augmented_pretrain_df.0080.train.pickle.gz\n",
      "Saved  /data/ajay/contracode/data/hf_data/train_chunks/augmented_pretrain_df.0085.train.pickle.gz\n",
      "Saved  /data/ajay/contracode/data/hf_data/train_chunks/augmented_pretrain_df.0083.train.pickle.gz\n",
      "Saved  /data/ajay/contracode/data/hf_data/train_chunks/augmented_pretrain_df.0086.train.pickle.gz\n",
      "Saved  /data/ajay/contracode/data/hf_data/train_chunks/augmented_pretrain_df.0095.train.pickle.gz\n",
      "Saved  /data/ajay/contracode/data/hf_data/train_chunks/augmented_pretrain_df.0082.train.pickle.gz\n",
      "Saved  /data/ajay/contracode/data/hf_data/train_chunks/augmented_pretrain_df.0088.train.pickle.gz\n",
      "Saved  /data/ajay/contracode/data/hf_data/train_chunks/augmented_pretrain_df.0084.train.pickle.gz\n",
      "Saved Saved  /data/ajay/contracode/data/hf_data/train_chunks/augmented_pretrain_df.0090.train.pickle.gz\n",
      " /data/ajay/contracode/data/hf_data/train_chunks/augmented_pretrain_df.0094.train.pickle.gz\n",
      "Saved  /data/ajay/contracode/data/hf_data/train_chunks/augmented_pretrain_df.0097.train.pickle.gz\n",
      "Saved  /data/ajay/contracode/data/hf_data/train_chunks/augmented_pretrain_df.0098.train.pickle.gz\n",
      "Saved  /data/ajay/contracode/data/hf_data/train_chunks/augmented_pretrain_df.0099.train.pickle.gz\n",
      "Saved  /data/ajay/contracode/data/hf_data/train_chunks/augmented_pretrain_df.0092.train.pickle.gzSaved \n",
      " /data/ajay/contracode/data/hf_data/train_chunks/augmented_pretrain_df.0091.train.pickle.gz\n",
      "Saved  /data/ajay/contracode/data/hf_data/train_chunks/augmented_pretrain_df.0096.train.pickle.gz\n",
      "Saved  /data/ajay/contracode/data/hf_data/train_chunks/augmented_pretrain_df.0103.train.pickle.gz\n",
      "Saved Saved  /data/ajay/contracode/data/hf_data/train_chunks/augmented_pretrain_df.0107.train.pickle.gz\n",
      " /data/ajay/contracode/data/hf_data/train_chunks/augmented_pretrain_df.0087.train.pickle.gz\n",
      "Saved  /data/ajay/contracode/data/hf_data/train_chunks/augmented_pretrain_df.0093.train.pickle.gz\n",
      "Saved  /data/ajay/contracode/data/hf_data/train_chunks/augmented_pretrain_df.0108.train.pickle.gz\n",
      "Saved  /data/ajay/contracode/data/hf_data/train_chunks/augmented_pretrain_df.0160.train.pickle.gz\n"
     ]
    },
    {
     "name": "stdout",
     "output_type": "stream",
     "text": [
      "Saved  /data/ajay/contracode/data/hf_data/train_chunks/augmented_pretrain_df.0101.train.pickle.gz\n",
      "Saved  /data/ajay/contracode/data/hf_data/train_chunks/augmented_pretrain_df.0105.train.pickle.gz\n",
      "Saved  /data/ajay/contracode/data/hf_data/train_chunks/augmented_pretrain_df.0106.train.pickle.gz\n",
      "Saved  /data/ajay/contracode/data/hf_data/train_chunks/augmented_pretrain_df.0100.train.pickle.gz\n",
      "Saved  /data/ajay/contracode/data/hf_data/train_chunks/augmented_pretrain_df.0102.train.pickle.gz\n",
      "Saved  /data/ajay/contracode/data/hf_data/train_chunks/augmented_pretrain_df.0118.train.pickle.gz\n",
      "Saved  /data/ajay/contracode/data/hf_data/train_chunks/augmented_pretrain_df.0122.train.pickle.gz\n",
      "Saved  /data/ajay/contracode/data/hf_data/train_chunks/augmented_pretrain_df.0110.train.pickle.gz\n",
      "Saved  /data/ajay/contracode/data/hf_data/train_chunks/augmented_pretrain_df.0109.train.pickle.gz\n",
      "Saved  /data/ajay/contracode/data/hf_data/train_chunks/augmented_pretrain_df.0123.train.pickle.gz\n",
      "Saved  /data/ajay/contracode/data/hf_data/train_chunks/augmented_pretrain_df.0114.train.pickle.gz\n",
      "Saved  /data/ajay/contracode/data/hf_data/train_chunks/augmented_pretrain_df.0112.train.pickle.gz\n",
      "Saved  /data/ajay/contracode/data/hf_data/train_chunks/augmented_pretrain_df.0104.train.pickle.gz\n",
      "Saved  /data/ajay/contracode/data/hf_data/train_chunks/augmented_pretrain_df.0119.train.pickle.gz\n",
      "Saved  /data/ajay/contracode/data/hf_data/train_chunks/augmented_pretrain_df.0113.train.pickle.gz\n",
      "Saved  /data/ajay/contracode/data/hf_data/train_chunks/augmented_pretrain_df.0115.train.pickle.gz\n",
      "Saved  /data/ajay/contracode/data/hf_data/train_chunks/augmented_pretrain_df.0125.train.pickle.gz\n",
      "Saved  /data/ajay/contracode/data/hf_data/train_chunks/augmented_pretrain_df.0111.train.pickle.gz\n",
      "Saved  /data/ajay/contracode/data/hf_data/train_chunks/augmented_pretrain_df.0117.train.pickle.gz\n",
      "Saved  /data/ajay/contracode/data/hf_data/train_chunks/augmented_pretrain_df.0124.train.pickle.gz\n",
      "Saved  /data/ajay/contracode/data/hf_data/train_chunks/augmented_pretrain_df.0121.train.pickle.gz\n",
      "Saved  /data/ajay/contracode/data/hf_data/train_chunks/augmented_pretrain_df.0120.train.pickle.gz\n",
      "Saved  /data/ajay/contracode/data/hf_data/train_chunks/augmented_pretrain_df.0126.train.pickle.gz\n",
      "Saved  /data/ajay/contracode/data/hf_data/train_chunks/augmented_pretrain_df.0133.train.pickle.gz\n",
      "Saved  /data/ajay/contracode/data/hf_data/train_chunks/augmented_pretrain_df.0130.train.pickle.gz\n",
      "Saved  /data/ajay/contracode/data/hf_data/train_chunks/augmented_pretrain_df.0128.train.pickle.gz\n",
      "Saved  /data/ajay/contracode/data/hf_data/train_chunks/augmented_pretrain_df.0138.train.pickle.gz\n",
      "Saved  /data/ajay/contracode/data/hf_data/train_chunks/augmented_pretrain_df.0129.train.pickle.gz\n",
      "Saved  /data/ajay/contracode/data/hf_data/train_chunks/augmented_pretrain_df.0136.train.pickle.gz\n",
      "Saved  /data/ajay/contracode/data/hf_data/train_chunks/augmented_pretrain_df.0116.train.pickle.gz\n",
      "Saved  /data/ajay/contracode/data/hf_data/train_chunks/augmented_pretrain_df.0137.train.pickle.gz\n",
      "Saved  /data/ajay/contracode/data/hf_data/train_chunks/augmented_pretrain_df.0132.train.pickle.gz\n",
      "Saved  /data/ajay/contracode/data/hf_data/train_chunks/augmented_pretrain_df.0139.train.pickle.gz\n",
      "Saved  /data/ajay/contracode/data/hf_data/train_chunks/augmented_pretrain_df.0142.train.pickle.gz\n",
      "Saved  /data/ajay/contracode/data/hf_data/train_chunks/augmented_pretrain_df.0131.train.pickle.gz\n",
      "Saved  /data/ajay/contracode/data/hf_data/train_chunks/augmented_pretrain_df.0135.train.pickle.gz\n",
      "Saved  /data/ajay/contracode/data/hf_data/train_chunks/augmented_pretrain_df.0143.train.pickle.gz\n",
      "Saved  /data/ajay/contracode/data/hf_data/train_chunks/augmented_pretrain_df.0141.train.pickle.gz\n",
      "Saved  /data/ajay/contracode/data/hf_data/train_chunks/augmented_pretrain_df.0134.train.pickle.gz\n",
      "Saved  /data/ajay/contracode/data/hf_data/train_chunks/augmented_pretrain_df.0140.train.pickle.gz\n",
      "Saved  /data/ajay/contracode/data/hf_data/train_chunks/augmented_pretrain_df.0127.train.pickle.gz\n",
      "Saved  /data/ajay/contracode/data/hf_data/train_chunks/augmented_pretrain_df.0146.train.pickle.gz\n",
      "Saved  /data/ajay/contracode/data/hf_data/train_chunks/augmented_pretrain_df.0145.train.pickle.gz\n",
      "Saved  /data/ajay/contracode/data/hf_data/train_chunks/augmented_pretrain_df.0147.train.pickle.gz\n",
      "Saved  /data/ajay/contracode/data/hf_data/train_chunks/augmented_pretrain_df.0150.train.pickle.gz\n",
      "Saved  /data/ajay/contracode/data/hf_data/train_chunks/augmented_pretrain_df.0152.train.pickle.gz\n",
      "Saved  /data/ajay/contracode/data/hf_data/train_chunks/augmented_pretrain_df.0157.train.pickle.gz\n",
      "Saved  /data/ajay/contracode/data/hf_data/train_chunks/augmented_pretrain_df.0144.train.pickle.gz\n",
      "Saved  /data/ajay/contracode/data/hf_data/train_chunks/augmented_pretrain_df.0154.train.pickle.gz\n",
      "Saved  /data/ajay/contracode/data/hf_data/train_chunks/augmented_pretrain_df.0156.train.pickle.gz\n",
      "Saved  /data/ajay/contracode/data/hf_data/train_chunks/augmented_pretrain_df.0151.train.pickle.gz\n",
      "Saved  /data/ajay/contracode/data/hf_data/train_chunks/augmented_pretrain_df.0153.train.pickle.gz\n",
      "Saved  /data/ajay/contracode/data/hf_data/train_chunks/augmented_pretrain_df.0158.train.pickle.gz\n",
      "Saved  /data/ajay/contracode/data/hf_data/train_chunks/augmented_pretrain_df.0155.train.pickle.gz\n",
      "Saved  /data/ajay/contracode/data/hf_data/train_chunks/augmented_pretrain_df.0149.train.pickle.gz\n",
      "Saved  /data/ajay/contracode/data/hf_data/train_chunks/augmented_pretrain_df.0148.train.pickle.gz\n",
      "Saved  /data/ajay/contracode/data/hf_data/train_chunks/augmented_pretrain_df.0159.train.pickle.gz\n"
     ]
    }
   ],
   "source": [
    "chunk_dir = \"/data/ajay/contracode/data/hf_data/train_chunks\"\n",
    "!mkdir -p {chunk_dir}\n",
    "split_df(train_df, chunk_dir + \"/augmented_pretrain_df.{:04d}.train.pickle.gz\", 160)"
   ]
  },
  {
   "cell_type": "code",
   "execution_count": 43,
   "metadata": {},
   "outputs": [
    {
     "name": "stderr",
     "output_type": "stream",
     "text": [
      "/home/ajay/miniconda3/envs/paras/lib/python3.8/site-packages/tqdm/std.py:670: FutureWarning: The Panel class is removed from pandas. Accessing it from the top-level namespace will also be removed in the next version\n",
      "  from pandas import Panel\n",
      "100%|██████████| 117298/117298 [02:27<00:00, 793.01it/s] \n"
     ]
    }
   ],
   "source": [
    "tqdm.pandas()\n",
    "\n",
    "path = \"/data/ajay/contracode/data/hf_data/train_chunks/augmented_pretrain_df.0000.train.pickle.gz\"\n",
    "\n",
    "def load_tokenizer(path=\"data/vocab/8k_bpe/8k_bpe-vocab.txt\"):\n",
    "    return BertTokenizerFast(path, clean_text=True, lowercase=False, strip_accents=True, unk_token=\"<unk>\")\n",
    "\n",
    "def load_data(path):\n",
    "    return pd.read_pickle(path)\n",
    "\n",
    "tokenizer = load_tokenizer()\n",
    "df_shard = load_data(path)\n",
    "df_shard['toks'] = df_shard['text'].progress_apply(lambda x: np.asarray(tokenizer.encode(x)))\n",
    "df_shard = df_shard[['data_idx', 'toks']]"
   ]
  },
  {
   "cell_type": "code",
   "execution_count": 52,
   "metadata": {
    "scrolled": false
   },
   "outputs": [
    {
     "name": "stderr",
     "output_type": "stream",
     "text": [
      "100%|██████████| 161/161 [00:00<00:00, 6202.48it/s]\n"
     ]
    },
    {
     "data": {
      "application/vnd.jupyter.widget-view+json": {
       "model_id": "e5bba0e0c956455c8c7e74413f71d0b3",
       "version_major": 2,
       "version_minor": 0
      },
      "text/plain": [
       "HBox(children=(FloatProgress(value=0.0, max=161.0), HTML(value='')))"
      ]
     },
     "metadata": {},
     "output_type": "display_data"
    },
    {
     "name": "stdout",
     "output_type": "stream",
     "text": [
      "DONE Loaded file  /data/ajay/contracode/data/hf_data/train_chunks_tokenized/augmented_pretrain_tokenized_df.0000.train.pickle.gz\n",
      "DONE Loaded file  /data/ajay/contracode/data/hf_data/train_chunks_tokenized/augmented_pretrain_tokenized_df.0009.train.pickle.gz\n",
      "DONE Loaded file  /data/ajay/contracode/data/hf_data/train_chunks_tokenized/augmented_pretrain_tokenized_df.0003.train.pickle.gz\n",
      "DONE Loaded file  /data/ajay/contracode/data/hf_data/train_chunks_tokenized/augmented_pretrain_tokenized_df.0005.train.pickle.gz\n",
      "DONE Loaded file  /data/ajay/contracode/data/hf_data/train_chunks_tokenized/augmented_pretrain_tokenized_df.0008.train.pickle.gz\n",
      "DONE Loaded file  /data/ajay/contracode/data/hf_data/train_chunks_tokenized/augmented_pretrain_tokenized_df.0006.train.pickle.gz\n",
      "DONE Loaded file  /data/ajay/contracode/data/hf_data/train_chunks_tokenized/augmented_pretrain_tokenized_df.0013.train.pickle.gz\n",
      "DONE Loaded file  /data/ajay/contracode/data/hf_data/train_chunks_tokenized/augmented_pretrain_tokenized_df.0007.train.pickle.gz\n",
      "DONE Loaded file  /data/ajay/contracode/data/hf_data/train_chunks_tokenized/augmented_pretrain_tokenized_df.0010.train.pickle.gz\n",
      "DONE Loaded file  /data/ajay/contracode/data/hf_data/train_chunks_tokenized/augmented_pretrain_tokenized_df.0015.train.pickle.gz\n",
      "DONE Loaded file  /data/ajay/contracode/data/hf_data/train_chunks_tokenized/augmented_pretrain_tokenized_df.0002.train.pickle.gz\n",
      "DONE Loaded file  /data/ajay/contracode/data/hf_data/train_chunks_tokenized/augmented_pretrain_tokenized_df.0012.train.pickle.gz\n",
      "DONE Loaded file  /data/ajay/contracode/data/hf_data/train_chunks_tokenized/augmented_pretrain_tokenized_df.0014.train.pickle.gz\n",
      "DONE Loaded file DONE Loaded file  /data/ajay/contracode/data/hf_data/train_chunks_tokenized/augmented_pretrain_tokenized_df.0011.train.pickle.gz\n",
      " /data/ajay/contracode/data/hf_data/train_chunks_tokenized/augmented_pretrain_tokenized_df.0004.train.pickle.gz\n",
      "DONE Loaded file  /data/ajay/contracode/data/hf_data/train_chunks_tokenized/augmented_pretrain_tokenized_df.0001.train.pickle.gz\n",
      "DONE Loaded file  /data/ajay/contracode/data/hf_data/train_chunks_tokenized/augmented_pretrain_tokenized_df.0016.train.pickle.gz\n",
      "DONE Loaded file  /data/ajay/contracode/data/hf_data/train_chunks_tokenized/augmented_pretrain_tokenized_df.0017.train.pickle.gz\n",
      "DONE Loaded file  /data/ajay/contracode/data/hf_data/train_chunks_tokenized/augmented_pretrain_tokenized_df.0018.train.pickle.gz\n",
      "DONE Loaded file  /data/ajay/contracode/data/hf_data/train_chunks_tokenized/augmented_pretrain_tokenized_df.0019.train.pickle.gz\n",
      "DONE Loaded file  /data/ajay/contracode/data/hf_data/train_chunks_tokenized/augmented_pretrain_tokenized_df.0020.train.pickle.gz\n",
      "DONE Loaded file  /data/ajay/contracode/data/hf_data/train_chunks_tokenized/augmented_pretrain_tokenized_df.0021.train.pickle.gz\n",
      "DONE Loaded file  /data/ajay/contracode/data/hf_data/train_chunks_tokenized/augmented_pretrain_tokenized_df.0022.train.pickle.gz\n",
      "DONE Loaded file  /data/ajay/contracode/data/hf_data/train_chunks_tokenized/augmented_pretrain_tokenized_df.0023.train.pickle.gz\n",
      "DONE Loaded file  /data/ajay/contracode/data/hf_data/train_chunks_tokenized/augmented_pretrain_tokenized_df.0024.train.pickle.gz\n",
      "DONE Loaded file  /data/ajay/contracode/data/hf_data/train_chunks_tokenized/augmented_pretrain_tokenized_df.0025.train.pickle.gz\n",
      "DONE Loaded file  /data/ajay/contracode/data/hf_data/train_chunks_tokenized/augmented_pretrain_tokenized_df.0026.train.pickle.gz\n",
      "DONE Loaded file  /data/ajay/contracode/data/hf_data/train_chunks_tokenized/augmented_pretrain_tokenized_df.0027.train.pickle.gz\n",
      "DONE Loaded file  /data/ajay/contracode/data/hf_data/train_chunks_tokenized/augmented_pretrain_tokenized_df.0028.train.pickle.gz\n",
      "DONE Loaded file  /data/ajay/contracode/data/hf_data/train_chunks_tokenized/augmented_pretrain_tokenized_df.0029.train.pickle.gz\n",
      "DONE Loaded file  /data/ajay/contracode/data/hf_data/train_chunks_tokenized/augmented_pretrain_tokenized_df.0030.train.pickle.gz\n",
      "DONE Loaded file  /data/ajay/contracode/data/hf_data/train_chunks_tokenized/augmented_pretrain_tokenized_df.0031.train.pickle.gz\n",
      "DONE Loaded file  /data/ajay/contracode/data/hf_data/train_chunks_tokenized/augmented_pretrain_tokenized_df.0032.train.pickle.gz\n",
      "DONE Loaded file  /data/ajay/contracode/data/hf_data/train_chunks_tokenized/augmented_pretrain_tokenized_df.0033.train.pickle.gz\n",
      "DONE Loaded file  /data/ajay/contracode/data/hf_data/train_chunks_tokenized/augmented_pretrain_tokenized_df.0034.train.pickle.gz\n",
      "DONE Loaded file  /data/ajay/contracode/data/hf_data/train_chunks_tokenized/augmented_pretrain_tokenized_df.0035.train.pickle.gz\n",
      "DONE Loaded file  /data/ajay/contracode/data/hf_data/train_chunks_tokenized/augmented_pretrain_tokenized_df.0036.train.pickle.gz\n",
      "DONE Loaded file  /data/ajay/contracode/data/hf_data/train_chunks_tokenized/augmented_pretrain_tokenized_df.0037.train.pickle.gz\n",
      "DONE Loaded file  /data/ajay/contracode/data/hf_data/train_chunks_tokenized/augmented_pretrain_tokenized_df.0038.train.pickle.gz\n",
      "DONE Loaded file  /data/ajay/contracode/data/hf_data/train_chunks_tokenized/augmented_pretrain_tokenized_df.0039.train.pickle.gz\n",
      "DONE Loaded file  /data/ajay/contracode/data/hf_data/train_chunks_tokenized/augmented_pretrain_tokenized_df.0040.train.pickle.gz\n",
      "DONE Loaded file  /data/ajay/contracode/data/hf_data/train_chunks_tokenized/augmented_pretrain_tokenized_df.0041.train.pickle.gz\n",
      "DONE Loaded file  /data/ajay/contracode/data/hf_data/train_chunks_tokenized/augmented_pretrain_tokenized_df.0042.train.pickle.gz\n",
      "DONE Loaded file  /data/ajay/contracode/data/hf_data/train_chunks_tokenized/augmented_pretrain_tokenized_df.0043.train.pickle.gz\n",
      "DONE Loaded file  /data/ajay/contracode/data/hf_data/train_chunks_tokenized/augmented_pretrain_tokenized_df.0044.train.pickle.gz\n",
      "DONE Loaded file  /data/ajay/contracode/data/hf_data/train_chunks_tokenized/augmented_pretrain_tokenized_df.0045.train.pickle.gz\n",
      "DONE Loaded file  /data/ajay/contracode/data/hf_data/train_chunks_tokenized/augmented_pretrain_tokenized_df.0046.train.pickle.gz\n",
      "DONE Loaded file  /data/ajay/contracode/data/hf_data/train_chunks_tokenized/augmented_pretrain_tokenized_df.0047.train.pickle.gz\n",
      "DONE Loaded file  /data/ajay/contracode/data/hf_data/train_chunks_tokenized/augmented_pretrain_tokenized_df.0048.train.pickle.gz\n",
      "DONE Loaded file  /data/ajay/contracode/data/hf_data/train_chunks_tokenized/augmented_pretrain_tokenized_df.0049.train.pickle.gz\n",
      "DONE Loaded file  /data/ajay/contracode/data/hf_data/train_chunks_tokenized/augmented_pretrain_tokenized_df.0050.train.pickle.gz\n",
      "DONE Loaded file  /data/ajay/contracode/data/hf_data/train_chunks_tokenized/augmented_pretrain_tokenized_df.0051.train.pickle.gz\n",
      "DONE Loaded file  /data/ajay/contracode/data/hf_data/train_chunks_tokenized/augmented_pretrain_tokenized_df.0052.train.pickle.gz\n",
      "DONE Loaded file  /data/ajay/contracode/data/hf_data/train_chunks_tokenized/augmented_pretrain_tokenized_df.0053.train.pickle.gz\n",
      "DONE Loaded file  /data/ajay/contracode/data/hf_data/train_chunks_tokenized/augmented_pretrain_tokenized_df.0054.train.pickle.gz\n",
      "DONE Loaded file  /data/ajay/contracode/data/hf_data/train_chunks_tokenized/augmented_pretrain_tokenized_df.0055.train.pickle.gz\n",
      "DONE Loaded file  /data/ajay/contracode/data/hf_data/train_chunks_tokenized/augmented_pretrain_tokenized_df.0056.train.pickle.gz\n",
      "DONE Loaded file  /data/ajay/contracode/data/hf_data/train_chunks_tokenized/augmented_pretrain_tokenized_df.0057.train.pickle.gz\n",
      "DONE Loaded file  /data/ajay/contracode/data/hf_data/train_chunks_tokenized/augmented_pretrain_tokenized_df.0058.train.pickle.gz\n",
      "DONE Loaded file  /data/ajay/contracode/data/hf_data/train_chunks_tokenized/augmented_pretrain_tokenized_df.0059.train.pickle.gz\n",
      "DONE Loaded file  /data/ajay/contracode/data/hf_data/train_chunks_tokenized/augmented_pretrain_tokenized_df.0060.train.pickle.gz\n",
      "DONE Loaded file  /data/ajay/contracode/data/hf_data/train_chunks_tokenized/augmented_pretrain_tokenized_df.0061.train.pickle.gz\n",
      "DONE Loaded file  /data/ajay/contracode/data/hf_data/train_chunks_tokenized/augmented_pretrain_tokenized_df.0062.train.pickle.gz\n",
      "DONE Loaded file  /data/ajay/contracode/data/hf_data/train_chunks_tokenized/augmented_pretrain_tokenized_df.0063.train.pickle.gz\n",
      "DONE Loaded file  /data/ajay/contracode/data/hf_data/train_chunks_tokenized/augmented_pretrain_tokenized_df.0064.train.pickle.gz\n",
      "DONE Loaded file  /data/ajay/contracode/data/hf_data/train_chunks_tokenized/augmented_pretrain_tokenized_df.0065.train.pickle.gz\n",
      "DONE Loaded file  /data/ajay/contracode/data/hf_data/train_chunks_tokenized/augmented_pretrain_tokenized_df.0066.train.pickle.gz\n",
      "DONE Loaded file  /data/ajay/contracode/data/hf_data/train_chunks_tokenized/augmented_pretrain_tokenized_df.0067.train.pickle.gz\n",
      "DONE Loaded file  /data/ajay/contracode/data/hf_data/train_chunks_tokenized/augmented_pretrain_tokenized_df.0068.train.pickle.gz\n",
      "DONE Loaded file  /data/ajay/contracode/data/hf_data/train_chunks_tokenized/augmented_pretrain_tokenized_df.0069.train.pickle.gz\n",
      "DONE Loaded file  /data/ajay/contracode/data/hf_data/train_chunks_tokenized/augmented_pretrain_tokenized_df.0070.train.pickle.gz\n",
      "DONE Loaded file  /data/ajay/contracode/data/hf_data/train_chunks_tokenized/augmented_pretrain_tokenized_df.0071.train.pickle.gz\n",
      "DONE Loaded file  /data/ajay/contracode/data/hf_data/train_chunks_tokenized/augmented_pretrain_tokenized_df.0072.train.pickle.gz\n",
      "DONE Loaded file  /data/ajay/contracode/data/hf_data/train_chunks_tokenized/augmented_pretrain_tokenized_df.0073.train.pickle.gz\n",
      "DONE Loaded file  /data/ajay/contracode/data/hf_data/train_chunks_tokenized/augmented_pretrain_tokenized_df.0074.train.pickle.gz\n",
      "DONE Loaded file  /data/ajay/contracode/data/hf_data/train_chunks_tokenized/augmented_pretrain_tokenized_df.0075.train.pickle.gz\n",
      "DONE Loaded file  /data/ajay/contracode/data/hf_data/train_chunks_tokenized/augmented_pretrain_tokenized_df.0076.train.pickle.gz\n",
      "DONE Loaded file  /data/ajay/contracode/data/hf_data/train_chunks_tokenized/augmented_pretrain_tokenized_df.0077.train.pickle.gz\n",
      "DONE Loaded file  /data/ajay/contracode/data/hf_data/train_chunks_tokenized/augmented_pretrain_tokenized_df.0078.train.pickle.gz\n",
      "DONE Loaded file  /data/ajay/contracode/data/hf_data/train_chunks_tokenized/augmented_pretrain_tokenized_df.0079.train.pickle.gz\n",
      "DONE Loaded file  /data/ajay/contracode/data/hf_data/train_chunks_tokenized/augmented_pretrain_tokenized_df.0080.train.pickle.gz\n",
      "DONE Loaded file  /data/ajay/contracode/data/hf_data/train_chunks_tokenized/augmented_pretrain_tokenized_df.0081.train.pickle.gz\n",
      "DONE Loaded file  /data/ajay/contracode/data/hf_data/train_chunks_tokenized/augmented_pretrain_tokenized_df.0082.train.pickle.gz\n",
      "DONE Loaded file  /data/ajay/contracode/data/hf_data/train_chunks_tokenized/augmented_pretrain_tokenized_df.0083.train.pickle.gz\n",
      "DONE Loaded file  /data/ajay/contracode/data/hf_data/train_chunks_tokenized/augmented_pretrain_tokenized_df.0084.train.pickle.gz\n",
      "DONE Loaded file  /data/ajay/contracode/data/hf_data/train_chunks_tokenized/augmented_pretrain_tokenized_df.0085.train.pickle.gz\n",
      "DONE Loaded file  /data/ajay/contracode/data/hf_data/train_chunks_tokenized/augmented_pretrain_tokenized_df.0086.train.pickle.gz\n",
      "DONE Loaded file  /data/ajay/contracode/data/hf_data/train_chunks_tokenized/augmented_pretrain_tokenized_df.0087.train.pickle.gz\n",
      "DONE Loaded file  /data/ajay/contracode/data/hf_data/train_chunks_tokenized/augmented_pretrain_tokenized_df.0088.train.pickle.gz\n",
      "\n",
      "/data/ajay/contracode/data/hf_data/train_chunks_tokenized/augmented_pretrain_tokenized_df.0089.train.pickle.gz DONE Loaded file DONE Loaded file  /data/ajay/contracode/data/hf_data/train_chunks_tokenized/augmented_pretrain_tokenized_df.0090.train.pickle.gz\n",
      "DONE Loaded file  /data/ajay/contracode/data/hf_data/train_chunks_tokenized/augmented_pretrain_tokenized_df.0091.train.pickle.gz\n",
      "DONE Loaded file  /data/ajay/contracode/data/hf_data/train_chunks_tokenized/augmented_pretrain_tokenized_df.0092.train.pickle.gz\n",
      "DONE Loaded file  /data/ajay/contracode/data/hf_data/train_chunks_tokenized/augmented_pretrain_tokenized_df.0093.train.pickle.gz\n",
      "DONE Loaded file  /data/ajay/contracode/data/hf_data/train_chunks_tokenized/augmented_pretrain_tokenized_df.0094.train.pickle.gz\n",
      "DONE Loaded file  /data/ajay/contracode/data/hf_data/train_chunks_tokenized/augmented_pretrain_tokenized_df.0095.train.pickle.gz\n",
      "DONE Loaded file  /data/ajay/contracode/data/hf_data/train_chunks_tokenized/augmented_pretrain_tokenized_df.0096.train.pickle.gz\n",
      "DONE Loaded file  /data/ajay/contracode/data/hf_data/train_chunks_tokenized/augmented_pretrain_tokenized_df.0097.train.pickle.gz\n",
      "DONE Loaded file  /data/ajay/contracode/data/hf_data/train_chunks_tokenized/augmented_pretrain_tokenized_df.0098.train.pickle.gz\n",
      "DONE Loaded file  /data/ajay/contracode/data/hf_data/train_chunks_tokenized/augmented_pretrain_tokenized_df.0099.train.pickle.gz\n",
      "DONE Loaded file  /data/ajay/contracode/data/hf_data/train_chunks_tokenized/augmented_pretrain_tokenized_df.0100.train.pickle.gz\n",
      "DONE Loaded file  /data/ajay/contracode/data/hf_data/train_chunks_tokenized/augmented_pretrain_tokenized_df.0101.train.pickle.gz\n",
      "DONE Loaded file  /data/ajay/contracode/data/hf_data/train_chunks_tokenized/augmented_pretrain_tokenized_df.0102.train.pickle.gz\n",
      "DONE Loaded file  /data/ajay/contracode/data/hf_data/train_chunks_tokenized/augmented_pretrain_tokenized_df.0103.train.pickle.gz\n",
      "DONE Loaded file  /data/ajay/contracode/data/hf_data/train_chunks_tokenized/augmented_pretrain_tokenized_df.0104.train.pickle.gz\n",
      "DONE Loaded file  /data/ajay/contracode/data/hf_data/train_chunks_tokenized/augmented_pretrain_tokenized_df.0105.train.pickle.gz\n",
      "DONE Loaded file  /data/ajay/contracode/data/hf_data/train_chunks_tokenized/augmented_pretrain_tokenized_df.0106.train.pickle.gz\n",
      "DONE Loaded file  /data/ajay/contracode/data/hf_data/train_chunks_tokenized/augmented_pretrain_tokenized_df.0107.train.pickle.gz\n",
      "DONE Loaded file  /data/ajay/contracode/data/hf_data/train_chunks_tokenized/augmented_pretrain_tokenized_df.0108.train.pickle.gz\n",
      "DONE Loaded file  /data/ajay/contracode/data/hf_data/train_chunks_tokenized/augmented_pretrain_tokenized_df.0109.train.pickle.gz\n",
      "DONE Loaded file  /data/ajay/contracode/data/hf_data/train_chunks_tokenized/augmented_pretrain_tokenized_df.0002.train.pickle.gz\n",
      "DONE Loaded file  /data/ajay/contracode/data/hf_data/train_chunks_tokenized/augmented_pretrain_tokenized_df.0110.train.pickle.gz\n",
      "DONE Loaded file  /data/ajay/contracode/data/hf_data/train_chunks_tokenized/augmented_pretrain_tokenized_df.0111.train.pickle.gz\n",
      "DONE Loaded file  /data/ajay/contracode/data/hf_data/train_chunks_tokenized/augmented_pretrain_tokenized_df.0112.train.pickle.gz\n",
      "DONE Loaded file  /data/ajay/contracode/data/hf_data/train_chunks_tokenized/augmented_pretrain_tokenized_df.0113.train.pickle.gz\n",
      "DONE Loaded file  /data/ajay/contracode/data/hf_data/train_chunks_tokenized/augmented_pretrain_tokenized_df.0114.train.pickle.gzDONE Loaded file  /data/ajay/contracode/data/hf_data/train_chunks_tokenized/augmented_pretrain_tokenized_df.0020.train.pickle.gz\n",
      "\n",
      "DONE Loaded file  /data/ajay/contracode/data/hf_data/train_chunks_tokenized/augmented_pretrain_tokenized_df.0115.train.pickle.gz\n",
      "\n",
      "/data/ajay/contracode/data/hf_data/train_chunks_tokenized/augmented_pretrain_tokenized_df.0116.train.pickle.gz DONE Loaded file DONE Loaded file  /data/ajay/contracode/data/hf_data/train_chunks_tokenized/augmented_pretrain_tokenized_df.0024.train.pickle.gz\n",
      "DONE Loaded file  /data/ajay/contracode/data/hf_data/train_chunks_tokenized/augmented_pretrain_tokenized_df.0117.train.pickle.gz\n",
      "DONE Loaded file  /data/ajay/contracode/data/hf_data/train_chunks_tokenized/augmented_pretrain_tokenized_df.0118.train.pickle.gz\n",
      "DONE Loaded file  /data/ajay/contracode/data/hf_data/train_chunks_tokenized/augmented_pretrain_tokenized_df.0119.train.pickle.gz\n",
      "DONE Loaded file  /data/ajay/contracode/data/hf_data/train_chunks_tokenized/augmented_pretrain_tokenized_df.0014.train.pickle.gz\n",
      "DONE Loaded file  /data/ajay/contracode/data/hf_data/train_chunks_tokenized/augmented_pretrain_tokenized_df.0120.train.pickle.gz\n",
      "DONE Loaded file  /data/ajay/contracode/data/hf_data/train_chunks_tokenized/augmented_pretrain_tokenized_df.0121.train.pickle.gz\n"
     ]
    },
    {
     "name": "stdout",
     "output_type": "stream",
     "text": [
      "DONE Loaded file  /data/ajay/contracode/data/hf_data/train_chunks_tokenized/augmented_pretrain_tokenized_df.0122.train.pickle.gz\n",
      "DONE Loaded file  /data/ajay/contracode/data/hf_data/train_chunks_tokenized/augmented_pretrain_tokenized_df.0025.train.pickle.gz\n",
      "DONE Loaded file  /data/ajay/contracode/data/hf_data/train_chunks_tokenized/augmented_pretrain_tokenized_df.0123.train.pickle.gz\n",
      "DONE Loaded file  /data/ajay/contracode/data/hf_data/train_chunks_tokenized/augmented_pretrain_tokenized_df.0124.train.pickle.gz\n",
      "DONE Loaded file  /data/ajay/contracode/data/hf_data/train_chunks_tokenized/augmented_pretrain_tokenized_df.0022.train.pickle.gz\n",
      "DONE Loaded file  /data/ajay/contracode/data/hf_data/train_chunks_tokenized/augmented_pretrain_tokenized_df.0125.train.pickle.gz\n",
      "DONE Loaded file  /data/ajay/contracode/data/hf_data/train_chunks_tokenized/augmented_pretrain_tokenized_df.0126.train.pickle.gz\n",
      "DONE Loaded file  /data/ajay/contracode/data/hf_data/train_chunks_tokenized/augmented_pretrain_tokenized_df.0054.train.pickle.gz\n",
      "DONE Loaded file  /data/ajay/contracode/data/hf_data/train_chunks_tokenized/augmented_pretrain_tokenized_df.0127.train.pickle.gz\n",
      "DONE Loaded file DONE Loaded file  /data/ajay/contracode/data/hf_data/train_chunks_tokenized/augmented_pretrain_tokenized_df.0035.train.pickle.gz\n",
      " /data/ajay/contracode/data/hf_data/train_chunks_tokenized/augmented_pretrain_tokenized_df.0128.train.pickle.gz\n",
      "DONE Loaded file  /data/ajay/contracode/data/hf_data/train_chunks_tokenized/augmented_pretrain_tokenized_df.0129.train.pickle.gz\n",
      "DONE Loaded file  /data/ajay/contracode/data/hf_data/train_chunks_tokenized/augmented_pretrain_tokenized_df.0009.train.pickle.gz\n",
      "DONE Loaded file  /data/ajay/contracode/data/hf_data/train_chunks_tokenized/augmented_pretrain_tokenized_df.0130.train.pickle.gzDONE Loaded file  /data/ajay/contracode/data/hf_data/train_chunks_tokenized/augmented_pretrain_tokenized_df.0043.train.pickle.gz\n",
      "\n",
      "DONE Loaded file  /data/ajay/contracode/data/hf_data/train_chunks_tokenized/augmented_pretrain_tokenized_df.0131.train.pickle.gz\n",
      "DONE Loaded file DONE Loaded file  /data/ajay/contracode/data/hf_data/train_chunks_tokenized/augmented_pretrain_tokenized_df.0012.train.pickle.gz\n",
      " /data/ajay/contracode/data/hf_data/train_chunks_tokenized/augmented_pretrain_tokenized_df.0132.train.pickle.gz\n",
      "\n",
      "/data/ajay/contracode/data/hf_data/train_chunks_tokenized/augmented_pretrain_tokenized_df.0133.train.pickle.gz DONE Loaded file DONE Loaded file  /data/ajay/contracode/data/hf_data/train_chunks_tokenized/augmented_pretrain_tokenized_df.0040.train.pickle.gz\n",
      "DONE Loaded file  /data/ajay/contracode/data/hf_data/train_chunks_tokenized/augmented_pretrain_tokenized_df.0134.train.pickle.gz\n",
      "DONE Loaded file  /data/ajay/contracode/data/hf_data/train_chunks_tokenized/augmented_pretrain_tokenized_df.0135.train.pickle.gz\n",
      "DONE Loaded file  /data/ajay/contracode/data/hf_data/train_chunks_tokenized/augmented_pretrain_tokenized_df.0015.train.pickle.gz\n",
      "DONE Loaded file  /data/ajay/contracode/data/hf_data/train_chunks_tokenized/augmented_pretrain_tokenized_df.0036.train.pickle.gz\n",
      "DONE Loaded file  /data/ajay/contracode/data/hf_data/train_chunks_tokenized/augmented_pretrain_tokenized_df.0136.train.pickle.gz\n",
      "DONE Loaded file  /data/ajay/contracode/data/hf_data/train_chunks_tokenized/augmented_pretrain_tokenized_df.0137.train.pickle.gz\n",
      "DONE Loaded file  /data/ajay/contracode/data/hf_data/train_chunks_tokenized/augmented_pretrain_tokenized_df.0138.train.pickle.gz\n",
      "DONE Loaded file  /data/ajay/contracode/data/hf_data/train_chunks_tokenized/augmented_pretrain_tokenized_df.0139.train.pickle.gz\n",
      "DONE Loaded file  DONE Loaded file  /data/ajay/contracode/data/hf_data/train_chunks_tokenized/augmented_pretrain_tokenized_df.0038.train.pickle.gz\n",
      "DONE Loaded file  /data/ajay/contracode/data/hf_data/train_chunks_tokenized/augmented_pretrain_tokenized_df.0049.train.pickle.gz\n",
      "/data/ajay/contracode/data/hf_data/train_chunks_tokenized/augmented_pretrain_tokenized_df.0140.train.pickle.gz\n",
      "DONE Loaded file  /data/ajay/contracode/data/hf_data/train_chunks_tokenized/augmented_pretrain_tokenized_df.0141.train.pickle.gz\n",
      "DONE Loaded file  /data/ajay/contracode/data/hf_data/train_chunks_tokenized/augmented_pretrain_tokenized_df.0142.train.pickle.gzDONE Loaded file  /data/ajay/contracode/data/hf_data/train_chunks_tokenized/augmented_pretrain_tokenized_df.0055.train.pickle.gz\n",
      "DONE Loaded file  /data/ajay/contracode/data/hf_data/train_chunks_tokenized/augmented_pretrain_tokenized_df.0031.train.pickle.gz\n",
      "DONE Loaded file  /data/ajay/contracode/data/hf_data/train_chunks_tokenized/augmented_pretrain_tokenized_df.0003.train.pickle.gz\n",
      "\n",
      "DONE Loaded file  /data/ajay/contracode/data/hf_data/train_chunks_tokenized/augmented_pretrain_tokenized_df.0143.train.pickle.gz\n",
      "DONE Loaded file  /data/ajay/contracode/data/hf_data/train_chunks_tokenized/augmented_pretrain_tokenized_df.0144.train.pickle.gz\n",
      "DONE Loaded file  /data/ajay/contracode/data/hf_data/train_chunks_tokenized/augmented_pretrain_tokenized_df.0019.train.pickle.gz\n",
      "DONE Loaded file  /data/ajay/contracode/data/hf_data/train_chunks_tokenized/augmented_pretrain_tokenized_df.0032.train.pickle.gz\n",
      "DONE Loaded file  /data/ajay/contracode/data/hf_data/train_chunks_tokenized/augmented_pretrain_tokenized_df.0041.train.pickle.gz\n",
      "DONE Loaded file  /data/ajay/contracode/data/hf_data/train_chunks_tokenized/augmented_pretrain_tokenized_df.0145.train.pickle.gz\n",
      "DONE Loaded file  /data/ajay/contracode/data/hf_data/train_chunks_tokenized/augmented_pretrain_tokenized_df.0146.train.pickle.gz\n",
      "DONE Loaded file  /data/ajay/contracode/data/hf_data/train_chunks_tokenized/augmented_pretrain_tokenized_df.0147.train.pickle.gz\n",
      "DONE Loaded file  /data/ajay/contracode/data/hf_data/train_chunks_tokenized/augmented_pretrain_tokenized_df.0021.train.pickle.gz\n",
      "DONE Loaded file  /data/ajay/contracode/data/hf_data/train_chunks_tokenized/augmented_pretrain_tokenized_df.0011.train.pickle.gz\n",
      "DONE Loaded file  /data/ajay/contracode/data/hf_data/train_chunks_tokenized/augmented_pretrain_tokenized_df.0006.train.pickle.gz\n",
      "DONE Loaded file  /data/ajay/contracode/data/hf_data/train_chunks_tokenized/augmented_pretrain_tokenized_df.0148.train.pickle.gz\n",
      "DONE Loaded file  /data/ajay/contracode/data/hf_data/train_chunks_tokenized/augmented_pretrain_tokenized_df.0149.train.pickle.gz\n",
      "DONE Loaded file  /data/ajay/contracode/data/hf_data/train_chunks_tokenized/augmented_pretrain_tokenized_df.0150.train.pickle.gz\n",
      "DONE Loaded file  /data/ajay/contracode/data/hf_data/train_chunks_tokenized/augmented_pretrain_tokenized_df.0151.train.pickle.gz\n",
      "DONE Loaded file  /data/ajay/contracode/data/hf_data/train_chunks_tokenized/augmented_pretrain_tokenized_df.0046.train.pickle.gz\n",
      "DONE Loaded file  /data/ajay/contracode/data/hf_data/train_chunks_tokenized/augmented_pretrain_tokenized_df.0152.train.pickle.gz\n",
      "DONE Loaded file  /data/ajay/contracode/data/hf_data/train_chunks_tokenized/augmented_pretrain_tokenized_df.0037.train.pickle.gz\n",
      "DONE Loaded file  /data/ajay/contracode/data/hf_data/train_chunks_tokenized/augmented_pretrain_tokenized_df.0153.train.pickle.gz\n",
      "DONE Loaded file \n",
      " /data/ajay/contracode/data/hf_data/train_chunks_tokenized/augmented_pretrain_tokenized_df.0154.train.pickle.gzDONE Loaded file  /data/ajay/contracode/data/hf_data/train_chunks_tokenized/augmented_pretrain_tokenized_df.0051.train.pickle.gz\n",
      "DONE Loaded file  /data/ajay/contracode/data/hf_data/train_chunks_tokenized/augmented_pretrain_tokenized_df.0057.train.pickle.gz\n",
      "DONE Loaded file  /data/ajay/contracode/data/hf_data/train_chunks_tokenized/augmented_pretrain_tokenized_df.0155.train.pickle.gz\n",
      "DONE Loaded file  /data/ajay/contracode/data/hf_data/train_chunks_tokenized/augmented_pretrain_tokenized_df.0004.train.pickle.gz\n",
      "DONE Loaded file  /data/ajay/contracode/data/hf_data/train_chunks_tokenized/augmented_pretrain_tokenized_df.0156.train.pickle.gz\n",
      "DONE Loaded file  /data/ajay/contracode/data/hf_data/train_chunks_tokenized/augmented_pretrain_tokenized_df.0000.train.pickle.gz\n",
      "DONE Loaded file  /data/ajay/contracode/data/hf_data/train_chunks_tokenized/augmented_pretrain_tokenized_df.0157.train.pickle.gz\n",
      "DONE Loaded file DONE Loaded file  /data/ajay/contracode/data/hf_data/train_chunks_tokenized/augmented_pretrain_tokenized_df.0050.train.pickle.gz\n"
     ]
    },
    {
     "name": "stdout",
     "output_type": "stream",
     "text": [
      " /data/ajay/contracode/data/hf_data/train_chunks_tokenized/augmented_pretrain_tokenized_df.0158.train.pickle.gz\n",
      "DONE Loaded file DONE Loaded file  /data/ajay/contracode/data/hf_data/train_chunks_tokenized/augmented_pretrain_tokenized_df.0023.train.pickle.gz\n",
      " /data/ajay/contracode/data/hf_data/train_chunks_tokenized/augmented_pretrain_tokenized_df.0160.train.pickle.gz\n",
      "DONE Loaded file  /data/ajay/contracode/data/hf_data/train_chunks_tokenized/augmented_pretrain_tokenized_df.0159.train.pickle.gz\n",
      "DONE Loaded file  /data/ajay/contracode/data/hf_data/train_chunks_tokenized/augmented_pretrain_tokenized_df.0008.train.pickle.gz\n",
      "DONE Loaded file  /data/ajay/contracode/data/hf_data/train_chunks_tokenized/augmented_pretrain_tokenized_df.0010.train.pickle.gz\n",
      "DONE Loaded file  /data/ajay/contracode/data/hf_data/train_chunks_tokenized/augmented_pretrain_tokenized_df.0044.train.pickle.gz\n",
      "DONE Loaded file  /data/ajay/contracode/data/hf_data/train_chunks_tokenized/augmented_pretrain_tokenized_df.0005.train.pickle.gz\n",
      "DONE Loaded file  /data/ajay/contracode/data/hf_data/train_chunks_tokenized/augmented_pretrain_tokenized_df.0029.train.pickle.gz\n",
      "DONE Loaded file  /data/ajay/contracode/data/hf_data/train_chunks_tokenized/augmented_pretrain_tokenized_df.0058.train.pickle.gz\n",
      "DONE Loaded file  /data/ajay/contracode/data/hf_data/train_chunks_tokenized/augmented_pretrain_tokenized_df.0063.train.pickle.gz\n",
      "DONE Loaded file  /data/ajay/contracode/data/hf_data/train_chunks_tokenized/augmented_pretrain_tokenized_df.0059.train.pickle.gz\n",
      "DONE Loaded file  /data/ajay/contracode/data/hf_data/train_chunks_tokenized/augmented_pretrain_tokenized_df.0061.train.pickle.gz\n",
      "DONE Loaded file  /data/ajay/contracode/data/hf_data/train_chunks_tokenized/augmented_pretrain_tokenized_df.0017.train.pickle.gz\n",
      "DONE Loaded file  /data/ajay/contracode/data/hf_data/train_chunks_tokenized/augmented_pretrain_tokenized_df.0016.train.pickle.gz\n",
      "DONE Loaded file  /data/ajay/contracode/data/hf_data/train_chunks_tokenized/augmented_pretrain_tokenized_df.0047.train.pickle.gz\n",
      "DONE Loaded file  /data/ajay/contracode/data/hf_data/train_chunks_tokenized/augmented_pretrain_tokenized_df.0056.train.pickle.gz\n",
      "\n",
      "DONE Loaded file  /data/ajay/contracode/data/hf_data/train_chunks_tokenized/augmented_pretrain_tokenized_df.0013.train.pickle.gz\n",
      "DONE Loaded file  /data/ajay/contracode/data/hf_data/train_chunks_tokenized/augmented_pretrain_tokenized_df.0033.train.pickle.gz\n",
      "DONE Loaded file  /data/ajay/contracode/data/hf_data/train_chunks_tokenized/augmented_pretrain_tokenized_df.0048.train.pickle.gz\n",
      "DONE Loaded file  /data/ajay/contracode/data/hf_data/train_chunks_tokenized/augmented_pretrain_tokenized_df.0042.train.pickle.gz\n",
      "DONE Loaded file  /data/ajay/contracode/data/hf_data/train_chunks_tokenized/augmented_pretrain_tokenized_df.0045.train.pickle.gz\n",
      "DONE Loaded file  /data/ajay/contracode/data/hf_data/train_chunks_tokenized/augmented_pretrain_tokenized_df.0030.train.pickle.gz\n",
      "DONE Loaded file  /data/ajay/contracode/data/hf_data/train_chunks_tokenized/augmented_pretrain_tokenized_df.0028.train.pickle.gz\n",
      "DONE Loaded file  /data/ajay/contracode/data/hf_data/train_chunks_tokenized/augmented_pretrain_tokenized_df.0007.train.pickle.gz\n",
      "DONE Loaded file  /data/ajay/contracode/data/hf_data/train_chunks_tokenized/augmented_pretrain_tokenized_df.0026.train.pickle.gz\n"
     ]
    }
   ],
   "source": [
    "from tqdm.contrib.concurrent import process_map\n",
    "\n",
    "dfs = []\n",
    "\n",
    "files = []\n",
    "for i in tqdm(list(range(161))):\n",
    "    path = f\"/data/ajay/contracode/data/hf_data/train_chunks_tokenized/augmented_pretrain_tokenized_df.{i:04d}.train.pickle.gz\"\n",
    "    files.append(path)\n",
    "\n",
    "def load_file(fname):\n",
    "    out = pd.read_pickle(fname)\n",
    "    return out\n",
    "    \n",
    "dfs = process_map(load_file, files, max_workers=16)"
   ]
  },
  {
   "cell_type": "code",
   "execution_count": 58,
   "metadata": {},
   "outputs": [],
   "source": [
    "merged_df = pd.concat(dfs)"
   ]
  },
  {
   "cell_type": "code",
   "execution_count": 61,
   "metadata": {},
   "outputs": [
    {
     "name": "stdout",
     "output_type": "stream",
     "text": [
      "<class 'pandas.core.frame.DataFrame'>\n",
      "RangeIndex: 18767791 entries, 0 to 18767790\n",
      "Data columns (total 2 columns):\n",
      " #   Column    Dtype \n",
      "---  ------    ----- \n",
      " 0   data_idx  int64 \n",
      " 1   toks      object\n",
      "dtypes: int64(1), object(1)\n",
      "memory usage: 7.0 GB\n"
     ]
    }
   ],
   "source": [
    "merged_df.info(memory_usage='deep')"
   ]
  },
  {
   "cell_type": "code",
   "execution_count": null,
   "metadata": {},
   "outputs": [],
   "source": [
    "merged_df.to_pickle('/data/ajay/contracode/data/hf_data/merged_tok.pickle.gz')"
   ]
  },
  {
   "cell_type": "code",
   "execution_count": 1,
   "metadata": {},
   "outputs": [
    {
     "ename": "NameError",
     "evalue": "name 'merged_df' is not defined",
     "output_type": "error",
     "traceback": [
      "\u001b[0;31m---------------------------------------------------------------------------\u001b[0m",
      "\u001b[0;31mNameError\u001b[0m                                 Traceback (most recent call last)",
      "\u001b[0;32m<ipython-input-1-08206c4dbf6c>\u001b[0m in \u001b[0;36m<module>\u001b[0;34m\u001b[0m\n\u001b[0;32m----> 1\u001b[0;31m \u001b[0mmerged_df\u001b[0m\u001b[0;34m\u001b[0m\u001b[0;34m\u001b[0m\u001b[0m\n\u001b[0m",
      "\u001b[0;31mNameError\u001b[0m: name 'merged_df' is not defined"
     ]
    }
   ],
   "source": [
    "merged_df"
   ]
  },
  {
   "cell_type": "markdown",
   "metadata": {},
   "source": [
    "# Repack data into plain pickle format"
   ]
  },
  {
   "cell_type": "code",
   "execution_count": 21,
   "metadata": {},
   "outputs": [
    {
     "name": "stdout",
     "output_type": "stream",
     "text": [
      "CPU times: user 1.52 s, sys: 116 ms, total: 1.64 s\n",
      "Wall time: 1.64 s\n",
      "CPU times: user 648 ms, sys: 296 ms, total: 944 ms\n",
      "Wall time: 940 ms\n",
      "CPU times: user 528 ms, sys: 192 ms, total: 720 ms\n",
      "Wall time: 761 ms\n"
     ]
    }
   ],
   "source": [
    "import pyarrow as pa\n",
    "import pyarrow.feather as feather\n",
    "\n",
    "%time test_df = pd.read_pickle('/data/ajay/contracode/data/hf_data/augmented_pretrain_df_tok.test.pickle.gz')\n",
    "%time feather_test_df = pa.Table.from_pandas(test_df)\n",
    "%time feather.write_feather(feather_test_df, '/data/ajay/contracode/data/hf_data/feather_tok/test_lz4.feather', compression='lz4')"
   ]
  },
  {
   "cell_type": "code",
   "execution_count": 35,
   "metadata": {},
   "outputs": [
    {
     "ename": "KeyboardInterrupt",
     "evalue": "",
     "output_type": "error",
     "traceback": [
      "\u001b[0;31m---------------------------------------------------------------------------\u001b[0m",
      "\u001b[0;31mKeyboardInterrupt\u001b[0m                         Traceback (most recent call last)",
      "\u001b[0;32m~/miniconda3/envs/paras/lib/python3.8/site-packages/pandas/io/pickle.py\u001b[0m in \u001b[0;36mread_pickle\u001b[0;34m(filepath_or_buffer, compression)\u001b[0m\n\u001b[1;32m    181\u001b[0m                 \u001b[0mwarnings\u001b[0m\u001b[0;34m.\u001b[0m\u001b[0msimplefilter\u001b[0m\u001b[0;34m(\u001b[0m\u001b[0;34m\"ignore\"\u001b[0m\u001b[0;34m,\u001b[0m \u001b[0mWarning\u001b[0m\u001b[0;34m)\u001b[0m\u001b[0;34m\u001b[0m\u001b[0;34m\u001b[0m\u001b[0m\n\u001b[0;32m--> 182\u001b[0;31m                 \u001b[0;32mreturn\u001b[0m \u001b[0mpickle\u001b[0m\u001b[0;34m.\u001b[0m\u001b[0mload\u001b[0m\u001b[0;34m(\u001b[0m\u001b[0mf\u001b[0m\u001b[0;34m)\u001b[0m\u001b[0;34m\u001b[0m\u001b[0;34m\u001b[0m\u001b[0m\n\u001b[0m\u001b[1;32m    183\u001b[0m         \u001b[0;32mexcept\u001b[0m \u001b[0mexcs_to_catch\u001b[0m\u001b[0;34m:\u001b[0m\u001b[0;34m\u001b[0m\u001b[0;34m\u001b[0m\u001b[0m\n",
      "\u001b[0;32m~/miniconda3/envs/paras/lib/python3.8/gzip.py\u001b[0m in \u001b[0;36mread\u001b[0;34m(self, size)\u001b[0m\n\u001b[1;32m    285\u001b[0m             \u001b[0;32mraise\u001b[0m \u001b[0mOSError\u001b[0m\u001b[0;34m(\u001b[0m\u001b[0merrno\u001b[0m\u001b[0;34m.\u001b[0m\u001b[0mEBADF\u001b[0m\u001b[0;34m,\u001b[0m \u001b[0;34m\"read() on write-only GzipFile object\"\u001b[0m\u001b[0;34m)\u001b[0m\u001b[0;34m\u001b[0m\u001b[0;34m\u001b[0m\u001b[0m\n\u001b[0;32m--> 286\u001b[0;31m         \u001b[0;32mreturn\u001b[0m \u001b[0mself\u001b[0m\u001b[0;34m.\u001b[0m\u001b[0m_buffer\u001b[0m\u001b[0;34m.\u001b[0m\u001b[0mread\u001b[0m\u001b[0;34m(\u001b[0m\u001b[0msize\u001b[0m\u001b[0;34m)\u001b[0m\u001b[0;34m\u001b[0m\u001b[0;34m\u001b[0m\u001b[0m\n\u001b[0m\u001b[1;32m    287\u001b[0m \u001b[0;34m\u001b[0m\u001b[0m\n",
      "\u001b[0;32m~/miniconda3/envs/paras/lib/python3.8/_compression.py\u001b[0m in \u001b[0;36mreadinto\u001b[0;34m(self, b)\u001b[0m\n\u001b[1;32m     67\u001b[0m         \u001b[0;32mwith\u001b[0m \u001b[0mmemoryview\u001b[0m\u001b[0;34m(\u001b[0m\u001b[0mb\u001b[0m\u001b[0;34m)\u001b[0m \u001b[0;32mas\u001b[0m \u001b[0mview\u001b[0m\u001b[0;34m,\u001b[0m \u001b[0mview\u001b[0m\u001b[0;34m.\u001b[0m\u001b[0mcast\u001b[0m\u001b[0;34m(\u001b[0m\u001b[0;34m\"B\"\u001b[0m\u001b[0;34m)\u001b[0m \u001b[0;32mas\u001b[0m \u001b[0mbyte_view\u001b[0m\u001b[0;34m:\u001b[0m\u001b[0;34m\u001b[0m\u001b[0;34m\u001b[0m\u001b[0m\n\u001b[0;32m---> 68\u001b[0;31m             \u001b[0mdata\u001b[0m \u001b[0;34m=\u001b[0m \u001b[0mself\u001b[0m\u001b[0;34m.\u001b[0m\u001b[0mread\u001b[0m\u001b[0;34m(\u001b[0m\u001b[0mlen\u001b[0m\u001b[0;34m(\u001b[0m\u001b[0mbyte_view\u001b[0m\u001b[0;34m)\u001b[0m\u001b[0;34m)\u001b[0m\u001b[0;34m\u001b[0m\u001b[0;34m\u001b[0m\u001b[0m\n\u001b[0m\u001b[1;32m     69\u001b[0m             \u001b[0mbyte_view\u001b[0m\u001b[0;34m[\u001b[0m\u001b[0;34m:\u001b[0m\u001b[0mlen\u001b[0m\u001b[0;34m(\u001b[0m\u001b[0mdata\u001b[0m\u001b[0;34m)\u001b[0m\u001b[0;34m]\u001b[0m \u001b[0;34m=\u001b[0m \u001b[0mdata\u001b[0m\u001b[0;34m\u001b[0m\u001b[0;34m\u001b[0m\u001b[0m\n",
      "\u001b[0;32m~/miniconda3/envs/paras/lib/python3.8/gzip.py\u001b[0m in \u001b[0;36mread\u001b[0;34m(self, size)\u001b[0m\n\u001b[1;32m    480\u001b[0m \u001b[0;34m\u001b[0m\u001b[0m\n\u001b[0;32m--> 481\u001b[0;31m             \u001b[0muncompress\u001b[0m \u001b[0;34m=\u001b[0m \u001b[0mself\u001b[0m\u001b[0;34m.\u001b[0m\u001b[0m_decompressor\u001b[0m\u001b[0;34m.\u001b[0m\u001b[0mdecompress\u001b[0m\u001b[0;34m(\u001b[0m\u001b[0mbuf\u001b[0m\u001b[0;34m,\u001b[0m \u001b[0msize\u001b[0m\u001b[0;34m)\u001b[0m\u001b[0;34m\u001b[0m\u001b[0;34m\u001b[0m\u001b[0m\n\u001b[0m\u001b[1;32m    482\u001b[0m             \u001b[0;32mif\u001b[0m \u001b[0mself\u001b[0m\u001b[0;34m.\u001b[0m\u001b[0m_decompressor\u001b[0m\u001b[0;34m.\u001b[0m\u001b[0munconsumed_tail\u001b[0m \u001b[0;34m!=\u001b[0m \u001b[0;34mb\"\"\u001b[0m\u001b[0;34m:\u001b[0m\u001b[0;34m\u001b[0m\u001b[0;34m\u001b[0m\u001b[0m\n",
      "\u001b[0;31mKeyboardInterrupt\u001b[0m: ",
      "\nDuring handling of the above exception, another exception occurred:\n",
      "\u001b[0;31mKeyboardInterrupt\u001b[0m                         Traceback (most recent call last)",
      "\u001b[0;32m<timed exec>\u001b[0m in \u001b[0;36m<module>\u001b[0;34m\u001b[0m\n",
      "\u001b[0;32m~/miniconda3/envs/paras/lib/python3.8/site-packages/pandas/io/pickle.py\u001b[0m in \u001b[0;36mread_pickle\u001b[0;34m(filepath_or_buffer, compression)\u001b[0m\n\u001b[1;32m    180\u001b[0m                 \u001b[0;31m# We want to silence any warnings about, e.g. moved modules.\u001b[0m\u001b[0;34m\u001b[0m\u001b[0;34m\u001b[0m\u001b[0;34m\u001b[0m\u001b[0m\n\u001b[1;32m    181\u001b[0m                 \u001b[0mwarnings\u001b[0m\u001b[0;34m.\u001b[0m\u001b[0msimplefilter\u001b[0m\u001b[0;34m(\u001b[0m\u001b[0;34m\"ignore\"\u001b[0m\u001b[0;34m,\u001b[0m \u001b[0mWarning\u001b[0m\u001b[0;34m)\u001b[0m\u001b[0;34m\u001b[0m\u001b[0;34m\u001b[0m\u001b[0m\n\u001b[0;32m--> 182\u001b[0;31m                 \u001b[0;32mreturn\u001b[0m \u001b[0mpickle\u001b[0m\u001b[0;34m.\u001b[0m\u001b[0mload\u001b[0m\u001b[0;34m(\u001b[0m\u001b[0mf\u001b[0m\u001b[0;34m)\u001b[0m\u001b[0;34m\u001b[0m\u001b[0;34m\u001b[0m\u001b[0m\n\u001b[0m\u001b[1;32m    183\u001b[0m         \u001b[0;32mexcept\u001b[0m \u001b[0mexcs_to_catch\u001b[0m\u001b[0;34m:\u001b[0m\u001b[0;34m\u001b[0m\u001b[0;34m\u001b[0m\u001b[0m\n\u001b[1;32m    184\u001b[0m             \u001b[0;31m# e.g.\u001b[0m\u001b[0;34m\u001b[0m\u001b[0;34m\u001b[0m\u001b[0;34m\u001b[0m\u001b[0m\n",
      "\u001b[0;31mKeyboardInterrupt\u001b[0m: "
     ]
    },
    {
     "ename": "KeyboardInterrupt",
     "evalue": "",
     "output_type": "error",
     "traceback": [
      "\u001b[0;31m---------------------------------------------------------------------------\u001b[0m",
      "\u001b[0;31mArrowCapacityError\u001b[0m                        Traceback (most recent call last)",
      "\u001b[0;32m~/miniconda3/envs/paras/lib/python3.8/site-packages/pyarrow/pandas_compat.py\u001b[0m in \u001b[0;36mconvert_column\u001b[0;34m(col, field)\u001b[0m\n\u001b[1;32m    558\u001b[0m         \u001b[0;32mtry\u001b[0m\u001b[0;34m:\u001b[0m\u001b[0;34m\u001b[0m\u001b[0;34m\u001b[0m\u001b[0m\n\u001b[0;32m--> 559\u001b[0;31m             \u001b[0mresult\u001b[0m \u001b[0;34m=\u001b[0m \u001b[0mpa\u001b[0m\u001b[0;34m.\u001b[0m\u001b[0marray\u001b[0m\u001b[0;34m(\u001b[0m\u001b[0mcol\u001b[0m\u001b[0;34m,\u001b[0m \u001b[0mtype\u001b[0m\u001b[0;34m=\u001b[0m\u001b[0mtype_\u001b[0m\u001b[0;34m,\u001b[0m \u001b[0mfrom_pandas\u001b[0m\u001b[0;34m=\u001b[0m\u001b[0;32mTrue\u001b[0m\u001b[0;34m,\u001b[0m \u001b[0msafe\u001b[0m\u001b[0;34m=\u001b[0m\u001b[0msafe\u001b[0m\u001b[0;34m)\u001b[0m\u001b[0;34m\u001b[0m\u001b[0;34m\u001b[0m\u001b[0m\n\u001b[0m\u001b[1;32m    560\u001b[0m         except (pa.ArrowInvalid,\n",
      "\u001b[0;32m~/miniconda3/envs/paras/lib/python3.8/site-packages/pyarrow/array.pxi\u001b[0m in \u001b[0;36mpyarrow.lib.array\u001b[0;34m()\u001b[0m\n",
      "\u001b[0;32m~/miniconda3/envs/paras/lib/python3.8/site-packages/pyarrow/array.pxi\u001b[0m in \u001b[0;36mpyarrow.lib._ndarray_to_array\u001b[0;34m()\u001b[0m\n",
      "\u001b[0;32m~/miniconda3/envs/paras/lib/python3.8/site-packages/pyarrow/error.pxi\u001b[0m in \u001b[0;36mpyarrow.lib.check_status\u001b[0;34m()\u001b[0m\n",
      "\u001b[0;31mArrowCapacityError\u001b[0m: List array cannot contain more than 2147483646 child elements, have 2147492378",
      "\nDuring handling of the above exception, another exception occurred:\n",
      "\u001b[0;31mKeyboardInterrupt\u001b[0m                         Traceback (most recent call last)",
      "\u001b[0;32m<timed exec>\u001b[0m in \u001b[0;36m<module>\u001b[0;34m\u001b[0m\n",
      "\u001b[0;32m~/miniconda3/envs/paras/lib/python3.8/site-packages/pyarrow/table.pxi\u001b[0m in \u001b[0;36mpyarrow.lib.Table.from_pandas\u001b[0;34m()\u001b[0m\n",
      "\u001b[0;32m~/miniconda3/envs/paras/lib/python3.8/site-packages/pyarrow/pandas_compat.py\u001b[0m in \u001b[0;36mdataframe_to_arrays\u001b[0;34m(df, schema, preserve_index, nthreads, columns, safe)\u001b[0m\n\u001b[1;32m    576\u001b[0m \u001b[0;34m\u001b[0m\u001b[0m\n\u001b[1;32m    577\u001b[0m     \u001b[0;32mif\u001b[0m \u001b[0mnthreads\u001b[0m \u001b[0;34m==\u001b[0m \u001b[0;36m1\u001b[0m\u001b[0;34m:\u001b[0m\u001b[0;34m\u001b[0m\u001b[0;34m\u001b[0m\u001b[0m\n\u001b[0;32m--> 578\u001b[0;31m         arrays = [convert_column(c, f)\n\u001b[0m\u001b[1;32m    579\u001b[0m                   for c, f in zip(columns_to_convert, convert_fields)]\n\u001b[1;32m    580\u001b[0m     \u001b[0;32melse\u001b[0m\u001b[0;34m:\u001b[0m\u001b[0;34m\u001b[0m\u001b[0;34m\u001b[0m\u001b[0m\n",
      "\u001b[0;32m~/miniconda3/envs/paras/lib/python3.8/site-packages/pyarrow/pandas_compat.py\u001b[0m in \u001b[0;36m<listcomp>\u001b[0;34m(.0)\u001b[0m\n\u001b[1;32m    576\u001b[0m \u001b[0;34m\u001b[0m\u001b[0m\n\u001b[1;32m    577\u001b[0m     \u001b[0;32mif\u001b[0m \u001b[0mnthreads\u001b[0m \u001b[0;34m==\u001b[0m \u001b[0;36m1\u001b[0m\u001b[0;34m:\u001b[0m\u001b[0;34m\u001b[0m\u001b[0;34m\u001b[0m\u001b[0m\n\u001b[0;32m--> 578\u001b[0;31m         arrays = [convert_column(c, f)\n\u001b[0m\u001b[1;32m    579\u001b[0m                   for c, f in zip(columns_to_convert, convert_fields)]\n\u001b[1;32m    580\u001b[0m     \u001b[0;32melse\u001b[0m\u001b[0;34m:\u001b[0m\u001b[0;34m\u001b[0m\u001b[0;34m\u001b[0m\u001b[0m\n",
      "\u001b[0;32m~/miniconda3/envs/paras/lib/python3.8/site-packages/pyarrow/pandas_compat.py\u001b[0m in \u001b[0;36mconvert_column\u001b[0;34m(col, field)\u001b[0m\n\u001b[1;32m    557\u001b[0m \u001b[0;34m\u001b[0m\u001b[0m\n\u001b[1;32m    558\u001b[0m         \u001b[0;32mtry\u001b[0m\u001b[0;34m:\u001b[0m\u001b[0;34m\u001b[0m\u001b[0;34m\u001b[0m\u001b[0m\n\u001b[0;32m--> 559\u001b[0;31m             \u001b[0mresult\u001b[0m \u001b[0;34m=\u001b[0m \u001b[0mpa\u001b[0m\u001b[0;34m.\u001b[0m\u001b[0marray\u001b[0m\u001b[0;34m(\u001b[0m\u001b[0mcol\u001b[0m\u001b[0;34m,\u001b[0m \u001b[0mtype\u001b[0m\u001b[0;34m=\u001b[0m\u001b[0mtype_\u001b[0m\u001b[0;34m,\u001b[0m \u001b[0mfrom_pandas\u001b[0m\u001b[0;34m=\u001b[0m\u001b[0;32mTrue\u001b[0m\u001b[0;34m,\u001b[0m \u001b[0msafe\u001b[0m\u001b[0;34m=\u001b[0m\u001b[0msafe\u001b[0m\u001b[0;34m)\u001b[0m\u001b[0;34m\u001b[0m\u001b[0;34m\u001b[0m\u001b[0m\n\u001b[0m\u001b[1;32m    560\u001b[0m         except (pa.ArrowInvalid,\n\u001b[1;32m    561\u001b[0m                 \u001b[0mpa\u001b[0m\u001b[0;34m.\u001b[0m\u001b[0mArrowNotImplementedError\u001b[0m\u001b[0;34m,\u001b[0m\u001b[0;34m\u001b[0m\u001b[0;34m\u001b[0m\u001b[0m\n",
      "\u001b[0;31mKeyboardInterrupt\u001b[0m: "
     ]
    },
    {
     "name": "stderr",
     "output_type": "stream",
     "text": [
      "ERROR:root:Internal Python error in the inspect module.\n",
      "Below is the traceback from this internal error.\n",
      "\n"
     ]
    },
    {
     "name": "stdout",
     "output_type": "stream",
     "text": [
      "Traceback (most recent call last):\n",
      "  File \"/home/ajay/miniconda3/envs/paras/lib/python3.8/site-packages/IPython/core/magics/execution.py\", line 1313, in time\n",
      "    out = eval(code, glob, local_ns)\n",
      "  File \"<timed eval>\", line 1, in <module>\n",
      "NameError: name 'feather_train_df' is not defined\n",
      "\n",
      "During handling of the above exception, another exception occurred:\n",
      "\n",
      "Traceback (most recent call last):\n",
      "  File \"/home/ajay/miniconda3/envs/paras/lib/python3.8/site-packages/IPython/core/interactiveshell.py\", line 2044, in showtraceback\n",
      "    stb = value._render_traceback_()\n",
      "AttributeError: 'NameError' object has no attribute '_render_traceback_'\n",
      "\n",
      "During handling of the above exception, another exception occurred:\n",
      "\n",
      "Traceback (most recent call last):\n",
      "  File \"/home/ajay/miniconda3/envs/paras/lib/python3.8/site-packages/IPython/core/ultratb.py\", line 1169, in get_records\n",
      "    return _fixed_getinnerframes(etb, number_of_lines_of_context, tb_offset)\n",
      "  File \"/home/ajay/miniconda3/envs/paras/lib/python3.8/site-packages/IPython/core/ultratb.py\", line 316, in wrapped\n",
      "    return f(*args, **kwargs)\n",
      "  File \"/home/ajay/miniconda3/envs/paras/lib/python3.8/site-packages/IPython/core/ultratb.py\", line 350, in _fixed_getinnerframes\n",
      "    records = fix_frame_records_filenames(inspect.getinnerframes(etb, context))\n",
      "  File \"/home/ajay/miniconda3/envs/paras/lib/python3.8/inspect.py\", line 1503, in getinnerframes\n",
      "    frameinfo = (tb.tb_frame,) + getframeinfo(tb, context)\n",
      "  File \"/home/ajay/miniconda3/envs/paras/lib/python3.8/inspect.py\", line 1461, in getframeinfo\n",
      "    filename = getsourcefile(frame) or getfile(frame)\n",
      "  File \"/home/ajay/miniconda3/envs/paras/lib/python3.8/inspect.py\", line 708, in getsourcefile\n",
      "    if getattr(getmodule(object, filename), '__loader__', None) is not None:\n",
      "  File \"/home/ajay/miniconda3/envs/paras/lib/python3.8/inspect.py\", line 747, in getmodule\n",
      "    if f == _filesbymodname.get(modname, None):\n",
      "KeyboardInterrupt\n"
     ]
    },
    {
     "ename": "TypeError",
     "evalue": "object of type 'NoneType' has no len()",
     "output_type": "error",
     "traceback": [
      "\u001b[0;31m---------------------------------------------------------------------------\u001b[0m",
      "\u001b[0;31mNameError\u001b[0m                                 Traceback (most recent call last)",
      "\u001b[0;32m~/miniconda3/envs/paras/lib/python3.8/site-packages/IPython/core/magics/execution.py\u001b[0m in \u001b[0;36mtime\u001b[0;34m(self, line, cell, local_ns)\u001b[0m\n\u001b[1;32m   1312\u001b[0m             \u001b[0;32mtry\u001b[0m\u001b[0;34m:\u001b[0m\u001b[0;34m\u001b[0m\u001b[0;34m\u001b[0m\u001b[0m\n\u001b[0;32m-> 1313\u001b[0;31m                 \u001b[0mout\u001b[0m \u001b[0;34m=\u001b[0m \u001b[0meval\u001b[0m\u001b[0;34m(\u001b[0m\u001b[0mcode\u001b[0m\u001b[0;34m,\u001b[0m \u001b[0mglob\u001b[0m\u001b[0;34m,\u001b[0m \u001b[0mlocal_ns\u001b[0m\u001b[0;34m)\u001b[0m\u001b[0;34m\u001b[0m\u001b[0;34m\u001b[0m\u001b[0m\n\u001b[0m\u001b[1;32m   1314\u001b[0m             \u001b[0;32mexcept\u001b[0m\u001b[0;34m:\u001b[0m\u001b[0;34m\u001b[0m\u001b[0;34m\u001b[0m\u001b[0m\n",
      "\u001b[0;32m<timed eval>\u001b[0m in \u001b[0;36m<module>\u001b[0;34m\u001b[0m\n",
      "\u001b[0;31mNameError\u001b[0m: name 'feather_train_df' is not defined",
      "\nDuring handling of the above exception, another exception occurred:\n",
      "\u001b[0;31mAttributeError\u001b[0m                            Traceback (most recent call last)",
      "\u001b[0;32m~/miniconda3/envs/paras/lib/python3.8/site-packages/IPython/core/interactiveshell.py\u001b[0m in \u001b[0;36mshowtraceback\u001b[0;34m(self, exc_tuple, filename, tb_offset, exception_only, running_compiled_code)\u001b[0m\n\u001b[1;32m   2043\u001b[0m                         \u001b[0;31m# in the engines. This should return a list of strings.\u001b[0m\u001b[0;34m\u001b[0m\u001b[0;34m\u001b[0m\u001b[0;34m\u001b[0m\u001b[0m\n\u001b[0;32m-> 2044\u001b[0;31m                         \u001b[0mstb\u001b[0m \u001b[0;34m=\u001b[0m \u001b[0mvalue\u001b[0m\u001b[0;34m.\u001b[0m\u001b[0m_render_traceback_\u001b[0m\u001b[0;34m(\u001b[0m\u001b[0;34m)\u001b[0m\u001b[0;34m\u001b[0m\u001b[0;34m\u001b[0m\u001b[0m\n\u001b[0m\u001b[1;32m   2045\u001b[0m                     \u001b[0;32mexcept\u001b[0m \u001b[0mException\u001b[0m\u001b[0;34m:\u001b[0m\u001b[0;34m\u001b[0m\u001b[0;34m\u001b[0m\u001b[0m\n",
      "\u001b[0;31mAttributeError\u001b[0m: 'NameError' object has no attribute '_render_traceback_'",
      "\nDuring handling of the above exception, another exception occurred:\n",
      "\u001b[0;31mTypeError\u001b[0m                                 Traceback (most recent call last)",
      "\u001b[0;32m<ipython-input-35-e73102fd9618>\u001b[0m in \u001b[0;36m<module>\u001b[0;34m\u001b[0m\n\u001b[1;32m      1\u001b[0m \u001b[0mget_ipython\u001b[0m\u001b[0;34m(\u001b[0m\u001b[0;34m)\u001b[0m\u001b[0;34m.\u001b[0m\u001b[0mrun_line_magic\u001b[0m\u001b[0;34m(\u001b[0m\u001b[0;34m'time'\u001b[0m\u001b[0;34m,\u001b[0m \u001b[0;34m\"train_df = pd.read_pickle('/data/ajay/contracode/data/hf_data/merged_tok.pickle.gz')\"\u001b[0m\u001b[0;34m)\u001b[0m\u001b[0;34m\u001b[0m\u001b[0;34m\u001b[0m\u001b[0m\n\u001b[1;32m      2\u001b[0m \u001b[0mget_ipython\u001b[0m\u001b[0;34m(\u001b[0m\u001b[0;34m)\u001b[0m\u001b[0;34m.\u001b[0m\u001b[0mrun_line_magic\u001b[0m\u001b[0;34m(\u001b[0m\u001b[0;34m'time'\u001b[0m\u001b[0;34m,\u001b[0m \u001b[0;34m'feather_train_df = pa.Table.from_pandas(train_df)'\u001b[0m\u001b[0;34m)\u001b[0m\u001b[0;34m\u001b[0m\u001b[0;34m\u001b[0m\u001b[0m\n\u001b[0;32m----> 3\u001b[0;31m \u001b[0mget_ipython\u001b[0m\u001b[0;34m(\u001b[0m\u001b[0;34m)\u001b[0m\u001b[0;34m.\u001b[0m\u001b[0mrun_line_magic\u001b[0m\u001b[0;34m(\u001b[0m\u001b[0;34m'time'\u001b[0m\u001b[0;34m,\u001b[0m \u001b[0;34m\"feather.write_feather(feather_train_df, '/data/ajay/contracode/data/hf_data/feather_tok/train_lz4.feather', compression='lz4')\"\u001b[0m\u001b[0;34m)\u001b[0m\u001b[0;34m\u001b[0m\u001b[0;34m\u001b[0m\u001b[0m\n\u001b[0m",
      "\u001b[0;32m~/miniconda3/envs/paras/lib/python3.8/site-packages/IPython/core/interactiveshell.py\u001b[0m in \u001b[0;36mrun_line_magic\u001b[0;34m(self, magic_name, line, _stack_depth)\u001b[0m\n\u001b[1;32m   2324\u001b[0m                 \u001b[0mkwargs\u001b[0m\u001b[0;34m[\u001b[0m\u001b[0;34m'local_ns'\u001b[0m\u001b[0;34m]\u001b[0m \u001b[0;34m=\u001b[0m \u001b[0mself\u001b[0m\u001b[0;34m.\u001b[0m\u001b[0mget_local_scope\u001b[0m\u001b[0;34m(\u001b[0m\u001b[0mstack_depth\u001b[0m\u001b[0;34m)\u001b[0m\u001b[0;34m\u001b[0m\u001b[0;34m\u001b[0m\u001b[0m\n\u001b[1;32m   2325\u001b[0m             \u001b[0;32mwith\u001b[0m \u001b[0mself\u001b[0m\u001b[0;34m.\u001b[0m\u001b[0mbuiltin_trap\u001b[0m\u001b[0;34m:\u001b[0m\u001b[0;34m\u001b[0m\u001b[0;34m\u001b[0m\u001b[0m\n\u001b[0;32m-> 2326\u001b[0;31m                 \u001b[0mresult\u001b[0m \u001b[0;34m=\u001b[0m \u001b[0mfn\u001b[0m\u001b[0;34m(\u001b[0m\u001b[0;34m*\u001b[0m\u001b[0margs\u001b[0m\u001b[0;34m,\u001b[0m \u001b[0;34m**\u001b[0m\u001b[0mkwargs\u001b[0m\u001b[0;34m)\u001b[0m\u001b[0;34m\u001b[0m\u001b[0;34m\u001b[0m\u001b[0m\n\u001b[0m\u001b[1;32m   2327\u001b[0m             \u001b[0;32mreturn\u001b[0m \u001b[0mresult\u001b[0m\u001b[0;34m\u001b[0m\u001b[0;34m\u001b[0m\u001b[0m\n\u001b[1;32m   2328\u001b[0m \u001b[0;34m\u001b[0m\u001b[0m\n",
      "\u001b[0;32m<decorator-gen-54>\u001b[0m in \u001b[0;36mtime\u001b[0;34m(self, line, cell, local_ns)\u001b[0m\n",
      "\u001b[0;32m~/miniconda3/envs/paras/lib/python3.8/site-packages/IPython/core/magic.py\u001b[0m in \u001b[0;36m<lambda>\u001b[0;34m(f, *a, **k)\u001b[0m\n\u001b[1;32m    185\u001b[0m     \u001b[0;31m# but it's overkill for just that one bit of state.\u001b[0m\u001b[0;34m\u001b[0m\u001b[0;34m\u001b[0m\u001b[0;34m\u001b[0m\u001b[0m\n\u001b[1;32m    186\u001b[0m     \u001b[0;32mdef\u001b[0m \u001b[0mmagic_deco\u001b[0m\u001b[0;34m(\u001b[0m\u001b[0marg\u001b[0m\u001b[0;34m)\u001b[0m\u001b[0;34m:\u001b[0m\u001b[0;34m\u001b[0m\u001b[0;34m\u001b[0m\u001b[0m\n\u001b[0;32m--> 187\u001b[0;31m         \u001b[0mcall\u001b[0m \u001b[0;34m=\u001b[0m \u001b[0;32mlambda\u001b[0m \u001b[0mf\u001b[0m\u001b[0;34m,\u001b[0m \u001b[0;34m*\u001b[0m\u001b[0ma\u001b[0m\u001b[0;34m,\u001b[0m \u001b[0;34m**\u001b[0m\u001b[0mk\u001b[0m\u001b[0;34m:\u001b[0m \u001b[0mf\u001b[0m\u001b[0;34m(\u001b[0m\u001b[0;34m*\u001b[0m\u001b[0ma\u001b[0m\u001b[0;34m,\u001b[0m \u001b[0;34m**\u001b[0m\u001b[0mk\u001b[0m\u001b[0;34m)\u001b[0m\u001b[0;34m\u001b[0m\u001b[0;34m\u001b[0m\u001b[0m\n\u001b[0m\u001b[1;32m    188\u001b[0m \u001b[0;34m\u001b[0m\u001b[0m\n\u001b[1;32m    189\u001b[0m         \u001b[0;32mif\u001b[0m \u001b[0mcallable\u001b[0m\u001b[0;34m(\u001b[0m\u001b[0marg\u001b[0m\u001b[0;34m)\u001b[0m\u001b[0;34m:\u001b[0m\u001b[0;34m\u001b[0m\u001b[0;34m\u001b[0m\u001b[0m\n",
      "\u001b[0;32m~/miniconda3/envs/paras/lib/python3.8/site-packages/IPython/core/magics/execution.py\u001b[0m in \u001b[0;36mtime\u001b[0;34m(self, line, cell, local_ns)\u001b[0m\n\u001b[1;32m   1313\u001b[0m                 \u001b[0mout\u001b[0m \u001b[0;34m=\u001b[0m \u001b[0meval\u001b[0m\u001b[0;34m(\u001b[0m\u001b[0mcode\u001b[0m\u001b[0;34m,\u001b[0m \u001b[0mglob\u001b[0m\u001b[0;34m,\u001b[0m \u001b[0mlocal_ns\u001b[0m\u001b[0;34m)\u001b[0m\u001b[0;34m\u001b[0m\u001b[0;34m\u001b[0m\u001b[0m\n\u001b[1;32m   1314\u001b[0m             \u001b[0;32mexcept\u001b[0m\u001b[0;34m:\u001b[0m\u001b[0;34m\u001b[0m\u001b[0;34m\u001b[0m\u001b[0m\n\u001b[0;32m-> 1315\u001b[0;31m                 \u001b[0mself\u001b[0m\u001b[0;34m.\u001b[0m\u001b[0mshell\u001b[0m\u001b[0;34m.\u001b[0m\u001b[0mshowtraceback\u001b[0m\u001b[0;34m(\u001b[0m\u001b[0;34m)\u001b[0m\u001b[0;34m\u001b[0m\u001b[0;34m\u001b[0m\u001b[0m\n\u001b[0m\u001b[1;32m   1316\u001b[0m                 \u001b[0;32mreturn\u001b[0m\u001b[0;34m\u001b[0m\u001b[0;34m\u001b[0m\u001b[0m\n\u001b[1;32m   1317\u001b[0m             \u001b[0mend\u001b[0m \u001b[0;34m=\u001b[0m \u001b[0mclock2\u001b[0m\u001b[0;34m(\u001b[0m\u001b[0;34m)\u001b[0m\u001b[0;34m\u001b[0m\u001b[0;34m\u001b[0m\u001b[0m\n",
      "\u001b[0;32m~/miniconda3/envs/paras/lib/python3.8/site-packages/IPython/core/interactiveshell.py\u001b[0m in \u001b[0;36mshowtraceback\u001b[0;34m(self, exc_tuple, filename, tb_offset, exception_only, running_compiled_code)\u001b[0m\n\u001b[1;32m   2044\u001b[0m                         \u001b[0mstb\u001b[0m \u001b[0;34m=\u001b[0m \u001b[0mvalue\u001b[0m\u001b[0;34m.\u001b[0m\u001b[0m_render_traceback_\u001b[0m\u001b[0;34m(\u001b[0m\u001b[0;34m)\u001b[0m\u001b[0;34m\u001b[0m\u001b[0;34m\u001b[0m\u001b[0m\n\u001b[1;32m   2045\u001b[0m                     \u001b[0;32mexcept\u001b[0m \u001b[0mException\u001b[0m\u001b[0;34m:\u001b[0m\u001b[0;34m\u001b[0m\u001b[0;34m\u001b[0m\u001b[0m\n\u001b[0;32m-> 2046\u001b[0;31m                         stb = self.InteractiveTB.structured_traceback(etype,\n\u001b[0m\u001b[1;32m   2047\u001b[0m                                             value, tb, tb_offset=tb_offset)\n\u001b[1;32m   2048\u001b[0m \u001b[0;34m\u001b[0m\u001b[0m\n",
      "\u001b[0;32m~/miniconda3/envs/paras/lib/python3.8/site-packages/IPython/core/ultratb.py\u001b[0m in \u001b[0;36mstructured_traceback\u001b[0;34m(self, etype, value, tb, tb_offset, number_of_lines_of_context)\u001b[0m\n\u001b[1;32m   1433\u001b[0m         \u001b[0;32melse\u001b[0m\u001b[0;34m:\u001b[0m\u001b[0;34m\u001b[0m\u001b[0;34m\u001b[0m\u001b[0m\n\u001b[1;32m   1434\u001b[0m             \u001b[0mself\u001b[0m\u001b[0;34m.\u001b[0m\u001b[0mtb\u001b[0m \u001b[0;34m=\u001b[0m \u001b[0mtb\u001b[0m\u001b[0;34m\u001b[0m\u001b[0;34m\u001b[0m\u001b[0m\n\u001b[0;32m-> 1435\u001b[0;31m         return FormattedTB.structured_traceback(\n\u001b[0m\u001b[1;32m   1436\u001b[0m             self, etype, value, tb, tb_offset, number_of_lines_of_context)\n\u001b[1;32m   1437\u001b[0m \u001b[0;34m\u001b[0m\u001b[0m\n",
      "\u001b[0;32m~/miniconda3/envs/paras/lib/python3.8/site-packages/IPython/core/ultratb.py\u001b[0m in \u001b[0;36mstructured_traceback\u001b[0;34m(self, etype, value, tb, tb_offset, number_of_lines_of_context)\u001b[0m\n\u001b[1;32m   1333\u001b[0m         \u001b[0;32mif\u001b[0m \u001b[0mmode\u001b[0m \u001b[0;32min\u001b[0m \u001b[0mself\u001b[0m\u001b[0;34m.\u001b[0m\u001b[0mverbose_modes\u001b[0m\u001b[0;34m:\u001b[0m\u001b[0;34m\u001b[0m\u001b[0;34m\u001b[0m\u001b[0m\n\u001b[1;32m   1334\u001b[0m             \u001b[0;31m# Verbose modes need a full traceback\u001b[0m\u001b[0;34m\u001b[0m\u001b[0;34m\u001b[0m\u001b[0;34m\u001b[0m\u001b[0m\n\u001b[0;32m-> 1335\u001b[0;31m             return VerboseTB.structured_traceback(\n\u001b[0m\u001b[1;32m   1336\u001b[0m                 \u001b[0mself\u001b[0m\u001b[0;34m,\u001b[0m \u001b[0metype\u001b[0m\u001b[0;34m,\u001b[0m \u001b[0mvalue\u001b[0m\u001b[0;34m,\u001b[0m \u001b[0mtb\u001b[0m\u001b[0;34m,\u001b[0m \u001b[0mtb_offset\u001b[0m\u001b[0;34m,\u001b[0m \u001b[0mnumber_of_lines_of_context\u001b[0m\u001b[0;34m\u001b[0m\u001b[0;34m\u001b[0m\u001b[0m\n\u001b[1;32m   1337\u001b[0m             )\n",
      "\u001b[0;32m~/miniconda3/envs/paras/lib/python3.8/site-packages/IPython/core/ultratb.py\u001b[0m in \u001b[0;36mstructured_traceback\u001b[0;34m(self, etype, evalue, etb, tb_offset, number_of_lines_of_context)\u001b[0m\n\u001b[1;32m   1190\u001b[0m         \u001b[0;34m\"\"\"Return a nice text document describing the traceback.\"\"\"\u001b[0m\u001b[0;34m\u001b[0m\u001b[0;34m\u001b[0m\u001b[0m\n\u001b[1;32m   1191\u001b[0m \u001b[0;34m\u001b[0m\u001b[0m\n\u001b[0;32m-> 1192\u001b[0;31m         formatted_exception = self.format_exception_as_a_whole(etype, evalue, etb, number_of_lines_of_context,\n\u001b[0m\u001b[1;32m   1193\u001b[0m                                                                tb_offset)\n\u001b[1;32m   1194\u001b[0m \u001b[0;34m\u001b[0m\u001b[0m\n",
      "\u001b[0;32m~/miniconda3/envs/paras/lib/python3.8/site-packages/IPython/core/ultratb.py\u001b[0m in \u001b[0;36mformat_exception_as_a_whole\u001b[0;34m(self, etype, evalue, etb, number_of_lines_of_context, tb_offset)\u001b[0m\n\u001b[1;32m   1148\u001b[0m \u001b[0;34m\u001b[0m\u001b[0m\n\u001b[1;32m   1149\u001b[0m \u001b[0;34m\u001b[0m\u001b[0m\n\u001b[0;32m-> 1150\u001b[0;31m         \u001b[0mlast_unique\u001b[0m\u001b[0;34m,\u001b[0m \u001b[0mrecursion_repeat\u001b[0m \u001b[0;34m=\u001b[0m \u001b[0mfind_recursion\u001b[0m\u001b[0;34m(\u001b[0m\u001b[0morig_etype\u001b[0m\u001b[0;34m,\u001b[0m \u001b[0mevalue\u001b[0m\u001b[0;34m,\u001b[0m \u001b[0mrecords\u001b[0m\u001b[0;34m)\u001b[0m\u001b[0;34m\u001b[0m\u001b[0;34m\u001b[0m\u001b[0m\n\u001b[0m\u001b[1;32m   1151\u001b[0m \u001b[0;34m\u001b[0m\u001b[0m\n\u001b[1;32m   1152\u001b[0m         \u001b[0mframes\u001b[0m \u001b[0;34m=\u001b[0m \u001b[0mself\u001b[0m\u001b[0;34m.\u001b[0m\u001b[0mformat_records\u001b[0m\u001b[0;34m(\u001b[0m\u001b[0mrecords\u001b[0m\u001b[0;34m,\u001b[0m \u001b[0mlast_unique\u001b[0m\u001b[0;34m,\u001b[0m \u001b[0mrecursion_repeat\u001b[0m\u001b[0;34m)\u001b[0m\u001b[0;34m\u001b[0m\u001b[0;34m\u001b[0m\u001b[0m\n",
      "\u001b[0;32m~/miniconda3/envs/paras/lib/python3.8/site-packages/IPython/core/ultratb.py\u001b[0m in \u001b[0;36mfind_recursion\u001b[0;34m(etype, value, records)\u001b[0m\n\u001b[1;32m    449\u001b[0m     \u001b[0;31m# first frame (from in to out) that looks different.\u001b[0m\u001b[0;34m\u001b[0m\u001b[0;34m\u001b[0m\u001b[0;34m\u001b[0m\u001b[0m\n\u001b[1;32m    450\u001b[0m     \u001b[0;32mif\u001b[0m \u001b[0;32mnot\u001b[0m \u001b[0mis_recursion_error\u001b[0m\u001b[0;34m(\u001b[0m\u001b[0metype\u001b[0m\u001b[0;34m,\u001b[0m \u001b[0mvalue\u001b[0m\u001b[0;34m,\u001b[0m \u001b[0mrecords\u001b[0m\u001b[0;34m)\u001b[0m\u001b[0;34m:\u001b[0m\u001b[0;34m\u001b[0m\u001b[0;34m\u001b[0m\u001b[0m\n\u001b[0;32m--> 451\u001b[0;31m         \u001b[0;32mreturn\u001b[0m \u001b[0mlen\u001b[0m\u001b[0;34m(\u001b[0m\u001b[0mrecords\u001b[0m\u001b[0;34m)\u001b[0m\u001b[0;34m,\u001b[0m \u001b[0;36m0\u001b[0m\u001b[0;34m\u001b[0m\u001b[0;34m\u001b[0m\u001b[0m\n\u001b[0m\u001b[1;32m    452\u001b[0m \u001b[0;34m\u001b[0m\u001b[0m\n\u001b[1;32m    453\u001b[0m     \u001b[0;31m# Select filename, lineno, func_name to track frames with\u001b[0m\u001b[0;34m\u001b[0m\u001b[0;34m\u001b[0m\u001b[0;34m\u001b[0m\u001b[0m\n",
      "\u001b[0;31mTypeError\u001b[0m: object of type 'NoneType' has no len()"
     ]
    }
   ],
   "source": [
    "%time train_df = pd.read_pickle('/data/ajay/contracode/data/hf_data/merged_tok.pickle.gz')\n",
    "%time feather_train_df = pa.Table.from_pandas(train_df)\n",
    "%time feather.write_feather(feather_train_df, '/data/ajay/contracode/data/hf_data/feather_tok/train_lz4.feather', compression='lz4')"
   ]
  },
  {
   "cell_type": "code",
   "execution_count": 55,
   "metadata": {},
   "outputs": [
    {
     "name": "stderr",
     "output_type": "stream",
     "text": [
      "\r",
      "  0%|          | 0/11 [00:00<?, ?it/s]"
     ]
    },
    {
     "name": "stdout",
     "output_type": "stream",
     "text": [
      "CPU times: user 0 ns, sys: 0 ns, total: 0 ns\n",
      "Wall time: 314 µs\n",
      "CPU times: user 10.3 s, sys: 3.04 s, total: 13.3 s\n",
      "Wall time: 13.2 s\n"
     ]
    },
    {
     "name": "stderr",
     "output_type": "stream",
     "text": [
      "\r",
      "  9%|▉         | 1/11 [00:23<03:55, 23.54s/it]"
     ]
    },
    {
     "name": "stdout",
     "output_type": "stream",
     "text": [
      "CPU times: user 8.61 s, sys: 1.74 s, total: 10.4 s\n",
      "Wall time: 10.3 s\n",
      "CPU times: user 0 ns, sys: 0 ns, total: 0 ns\n",
      "Wall time: 590 µs\n",
      "CPU times: user 10.7 s, sys: 3.72 s, total: 14.4 s\n",
      "Wall time: 14.3 s\n"
     ]
    },
    {
     "name": "stderr",
     "output_type": "stream",
     "text": [
      "\r",
      " 18%|█▊        | 2/11 [00:47<03:34, 23.81s/it]"
     ]
    },
    {
     "name": "stdout",
     "output_type": "stream",
     "text": [
      "CPU times: user 8.64 s, sys: 1.74 s, total: 10.4 s\n",
      "Wall time: 10.1 s\n",
      "CPU times: user 4 ms, sys: 0 ns, total: 4 ms\n",
      "Wall time: 455 µs\n",
      "CPU times: user 10.7 s, sys: 3.88 s, total: 14.6 s\n",
      "Wall time: 14.5 s\n"
     ]
    },
    {
     "name": "stderr",
     "output_type": "stream",
     "text": [
      "\r",
      " 27%|██▋       | 3/11 [01:12<03:13, 24.14s/it]"
     ]
    },
    {
     "name": "stdout",
     "output_type": "stream",
     "text": [
      "CPU times: user 8.84 s, sys: 1.84 s, total: 10.7 s\n",
      "Wall time: 10.4 s\n",
      "CPU times: user 0 ns, sys: 0 ns, total: 0 ns\n",
      "Wall time: 501 µs\n",
      "CPU times: user 10.9 s, sys: 3.94 s, total: 14.8 s\n",
      "Wall time: 14.7 s\n"
     ]
    },
    {
     "name": "stderr",
     "output_type": "stream",
     "text": [
      "\r",
      " 36%|███▋      | 4/11 [01:38<02:52, 24.61s/it]"
     ]
    },
    {
     "name": "stdout",
     "output_type": "stream",
     "text": [
      "CPU times: user 9.46 s, sys: 1.79 s, total: 11.2 s\n",
      "Wall time: 11 s\n",
      "CPU times: user 0 ns, sys: 0 ns, total: 0 ns\n",
      "Wall time: 480 µs\n",
      "CPU times: user 12.2 s, sys: 4.08 s, total: 16.3 s\n",
      "Wall time: 16.2 s\n"
     ]
    },
    {
     "name": "stderr",
     "output_type": "stream",
     "text": [
      "\r",
      " 45%|████▌     | 5/11 [02:06<02:33, 25.64s/it]"
     ]
    },
    {
     "name": "stdout",
     "output_type": "stream",
     "text": [
      "CPU times: user 10.1 s, sys: 2.06 s, total: 12.1 s\n",
      "Wall time: 11.8 s\n",
      "CPU times: user 0 ns, sys: 0 ns, total: 0 ns\n",
      "Wall time: 534 µs\n",
      "CPU times: user 12.3 s, sys: 4.75 s, total: 17.1 s\n",
      "Wall time: 17 s\n"
     ]
    },
    {
     "name": "stderr",
     "output_type": "stream",
     "text": [
      "\r",
      " 55%|█████▍    | 6/11 [02:35<02:12, 26.48s/it]"
     ]
    },
    {
     "name": "stdout",
     "output_type": "stream",
     "text": [
      "CPU times: user 9.61 s, sys: 2.21 s, total: 11.8 s\n",
      "Wall time: 11.5 s\n",
      "CPU times: user 0 ns, sys: 0 ns, total: 0 ns\n",
      "Wall time: 455 µs\n",
      "CPU times: user 11.5 s, sys: 4.42 s, total: 15.9 s\n",
      "Wall time: 15.8 s\n"
     ]
    },
    {
     "name": "stderr",
     "output_type": "stream",
     "text": [
      "\r",
      " 64%|██████▎   | 7/11 [03:02<01:47, 26.83s/it]"
     ]
    },
    {
     "name": "stdout",
     "output_type": "stream",
     "text": [
      "CPU times: user 9.87 s, sys: 2.32 s, total: 12.2 s\n",
      "Wall time: 11.8 s\n",
      "CPU times: user 0 ns, sys: 0 ns, total: 0 ns\n",
      "Wall time: 528 µs\n",
      "CPU times: user 11.6 s, sys: 4.61 s, total: 16.2 s\n",
      "Wall time: 16.2 s\n"
     ]
    },
    {
     "name": "stderr",
     "output_type": "stream",
     "text": [
      "\r",
      " 73%|███████▎  | 8/11 [03:30<01:21, 27.24s/it]"
     ]
    },
    {
     "name": "stdout",
     "output_type": "stream",
     "text": [
      "CPU times: user 9.9 s, sys: 2.48 s, total: 12.4 s\n",
      "Wall time: 12 s\n",
      "CPU times: user 0 ns, sys: 0 ns, total: 0 ns\n",
      "Wall time: 659 µs\n",
      "CPU times: user 10.7 s, sys: 4.12 s, total: 14.9 s\n",
      "Wall time: 14.8 s\n"
     ]
    },
    {
     "name": "stderr",
     "output_type": "stream",
     "text": [
      "\r",
      " 82%|████████▏ | 9/11 [03:57<00:54, 27.09s/it]"
     ]
    },
    {
     "name": "stdout",
     "output_type": "stream",
     "text": [
      "CPU times: user 9.21 s, sys: 3.07 s, total: 12.3 s\n",
      "Wall time: 12 s\n",
      "CPU times: user 0 ns, sys: 0 ns, total: 0 ns\n",
      "Wall time: 406 µs\n",
      "CPU times: user 10.8 s, sys: 4.46 s, total: 15.2 s\n",
      "Wall time: 15.1 s\n"
     ]
    },
    {
     "name": "stderr",
     "output_type": "stream",
     "text": [
      "100%|██████████| 11/11 [04:25<00:00, 24.17s/it]"
     ]
    },
    {
     "name": "stdout",
     "output_type": "stream",
     "text": [
      "CPU times: user 9.46 s, sys: 3.89 s, total: 13.3 s\n",
      "Wall time: 13 s\n",
      "CPU times: user 0 ns, sys: 0 ns, total: 0 ns\n",
      "Wall time: 567 µs\n",
      "CPU times: user 4 ms, sys: 0 ns, total: 4 ms\n",
      "Wall time: 912 µs\n",
      "CPU times: user 0 ns, sys: 0 ns, total: 0 ns\n",
      "Wall time: 913 µs\n"
     ]
    },
    {
     "name": "stderr",
     "output_type": "stream",
     "text": [
      "\n"
     ]
    }
   ],
   "source": [
    "chunk_size = int(len(train_df) / 10)\n",
    "for i in tqdm(list(range(11))):\n",
    "    %time sampled_train_df = train_df[chunk_size * i : chunk_size * i + chunk_size]\n",
    "    %time feather_train_df = pa.Table.from_pandas(sampled_train_df)\n",
    "    %time feather.write_feather(feather_train_df, f'/data/ajay/contracode/data/hf_data/feather_tok/train_lz4.feather.{i:02d}', compression='lz4')"
   ]
  },
  {
   "cell_type": "code",
   "execution_count": 44,
   "metadata": {},
   "outputs": [
    {
     "name": "stdout",
     "output_type": "stream",
     "text": [
      "CPU times: user 4 ms, sys: 0 ns, total: 4 ms\n",
      "Wall time: 501 µs\n"
     ]
    }
   ],
   "source": [
    "%time feather.write_feather(feather_train_df, '/data/ajay/contracode/data/hf_data/feather_tok/train_lz4.feather', compression='lz4')"
   ]
  },
  {
   "cell_type": "code",
   "execution_count": 50,
   "metadata": {},
   "outputs": [
    {
     "data": {
      "text/plain": [
       "16891012"
      ]
     },
     "execution_count": 50,
     "metadata": {},
     "output_type": "execute_result"
    }
   ],
   "source": [
    "int(len(train_df) * 0.1)\n",
    "len(train_df[int(len(train_df) * 0.1):])"
   ]
  },
  {
   "cell_type": "code",
   "execution_count": 51,
   "metadata": {},
   "outputs": [
    {
     "data": {
      "text/plain": [
       "0"
      ]
     },
     "execution_count": 51,
     "metadata": {},
     "output_type": "execute_result"
    }
   ],
   "source": [
    "len(feather_train_df)"
   ]
  },
  {
   "cell_type": "code",
   "execution_count": 56,
   "metadata": {},
   "outputs": [
    {
     "name": "stdout",
     "output_type": "stream",
     "text": [
      "CPU times: user 4.69 s, sys: 6.58 s, total: 11.3 s\n",
      "Wall time: 11.3 s\n"
     ]
    },
    {
     "data": {
      "text/html": [
       "<div>\n",
       "<style scoped>\n",
       "    .dataframe tbody tr th:only-of-type {\n",
       "        vertical-align: middle;\n",
       "    }\n",
       "\n",
       "    .dataframe tbody tr th {\n",
       "        vertical-align: top;\n",
       "    }\n",
       "\n",
       "    .dataframe thead th {\n",
       "        text-align: right;\n",
       "    }\n",
       "</style>\n",
       "<table border=\"1\" class=\"dataframe\">\n",
       "  <thead>\n",
       "    <tr style=\"text-align: right;\">\n",
       "      <th></th>\n",
       "      <th>data_idx</th>\n",
       "      <th>toks</th>\n",
       "    </tr>\n",
       "  </thead>\n",
       "  <tbody>\n",
       "    <tr>\n",
       "      <th>0</th>\n",
       "      <td>1319387</td>\n",
       "      <td>[6, 1391, 98, 39, 1302, 18, 94, 19, 101, 1305,...</td>\n",
       "    </tr>\n",
       "    <tr>\n",
       "      <th>1</th>\n",
       "      <td>1290376</td>\n",
       "      <td>[6, 1302, 98, 18, 2110, 22, 1374, 19, 101, 130...</td>\n",
       "    </tr>\n",
       "    <tr>\n",
       "      <th>2</th>\n",
       "      <td>1759800</td>\n",
       "      <td>[6, 1391, 98, 39, 1302, 18, 1666, 22, 1415, 22...</td>\n",
       "    </tr>\n",
       "    <tr>\n",
       "      <th>3</th>\n",
       "      <td>1829150</td>\n",
       "      <td>[6, 1391, 98, 39, 1302, 18, 77, 22, 2536, 19, ...</td>\n",
       "    </tr>\n",
       "    <tr>\n",
       "      <th>4</th>\n",
       "      <td>293100</td>\n",
       "      <td>[6, 1391, 98, 39, 1302, 18, 19, 101, 1308, 92,...</td>\n",
       "    </tr>\n",
       "    <tr>\n",
       "      <th>...</th>\n",
       "      <td>...</td>\n",
       "      <td>...</td>\n",
       "    </tr>\n",
       "    <tr>\n",
       "      <th>1876774</th>\n",
       "      <td>404761</td>\n",
       "      <td>[6, 1302, 98, 18, 14, 1568, 22, 1666, 22, 1397...</td>\n",
       "    </tr>\n",
       "    <tr>\n",
       "      <th>1876775</th>\n",
       "      <td>1014435</td>\n",
       "      <td>[6, 1302, 98, 18, 79, 19, 101, 1308, 1586, 158...</td>\n",
       "    </tr>\n",
       "    <tr>\n",
       "      <th>1876776</th>\n",
       "      <td>1429626</td>\n",
       "      <td>[6, 1302, 98, 18, 1732, 19, 101, 1308, 1567, 3...</td>\n",
       "    </tr>\n",
       "    <tr>\n",
       "      <th>1876777</th>\n",
       "      <td>261604</td>\n",
       "      <td>[6, 1302, 98, 18, 19, 101, 1735, 1038, 1383, 1...</td>\n",
       "    </tr>\n",
       "    <tr>\n",
       "      <th>1876778</th>\n",
       "      <td>998450</td>\n",
       "      <td>[6, 1302, 98, 18, 4131, 73, 5439, 22, 1903, 19...</td>\n",
       "    </tr>\n",
       "  </tbody>\n",
       "</table>\n",
       "<p>1876779 rows × 2 columns</p>\n",
       "</div>"
      ],
      "text/plain": [
       "         data_idx                                               toks\n",
       "0         1319387  [6, 1391, 98, 39, 1302, 18, 94, 19, 101, 1305,...\n",
       "1         1290376  [6, 1302, 98, 18, 2110, 22, 1374, 19, 101, 130...\n",
       "2         1759800  [6, 1391, 98, 39, 1302, 18, 1666, 22, 1415, 22...\n",
       "3         1829150  [6, 1391, 98, 39, 1302, 18, 77, 22, 2536, 19, ...\n",
       "4          293100  [6, 1391, 98, 39, 1302, 18, 19, 101, 1308, 92,...\n",
       "...           ...                                                ...\n",
       "1876774    404761  [6, 1302, 98, 18, 14, 1568, 22, 1666, 22, 1397...\n",
       "1876775   1014435  [6, 1302, 98, 18, 79, 19, 101, 1308, 1586, 158...\n",
       "1876776   1429626  [6, 1302, 98, 18, 1732, 19, 101, 1308, 1567, 3...\n",
       "1876777    261604  [6, 1302, 98, 18, 19, 101, 1735, 1038, 1383, 1...\n",
       "1876778    998450  [6, 1302, 98, 18, 4131, 73, 5439, 22, 1903, 19...\n",
       "\n",
       "[1876779 rows x 2 columns]"
      ]
     },
     "execution_count": 56,
     "metadata": {},
     "output_type": "execute_result"
    }
   ],
   "source": [
    "%time feather.read_feather('/data/ajay/contracode/data/hf_data/feather_tok/train_lz4.feather.00')"
   ]
  },
  {
   "cell_type": "code",
   "execution_count": 64,
   "metadata": {},
   "outputs": [
    {
     "data": {
      "application/vnd.jupyter.widget-view+json": {
       "model_id": "2a2e0a01aa41472593a04770105eb102",
       "version_major": 2,
       "version_minor": 0
      },
      "text/plain": [
       "HBox(children=(FloatProgress(value=0.0, max=11.0), HTML(value='')))"
      ]
     },
     "metadata": {},
     "output_type": "display_data"
    },
    {
     "name": "stdout",
     "output_type": "stream",
     "text": [
      "\n",
      "CPU times: user 53.5 s, sys: 1min 31s, total: 2min 24s\n",
      "Wall time: 2min 20s\n"
     ]
    }
   ],
   "source": [
    "import pyarrow.feather as feather\n",
    "from tqdm.contrib.concurrent import thread_map\n",
    "\n",
    "files = [f'/data/ajay/contracode/data/hf_data/feather_tok/train_lz4.feather.{i:02d}' for i in range(11)]\n",
    "%time dfs = thread_map(feather.read_feather, files, max_workers=16)"
   ]
  },
  {
   "cell_type": "code",
   "execution_count": 66,
   "metadata": {
    "scrolled": false
   },
   "outputs": [
    {
     "data": {
      "application/vnd.jupyter.widget-view+json": {
       "model_id": "947399f8f5e84ee898d9ba153f8070a4",
       "version_major": 2,
       "version_minor": 0
      },
      "text/plain": [
       "HBox(children=(FloatProgress(value=0.0, max=11.0), HTML(value='')))"
      ]
     },
     "metadata": {},
     "output_type": "display_data"
    },
    {
     "name": "stdout",
     "output_type": "stream",
     "text": [
      "\n",
      "CPU times: user 57.4 s, sys: 1min 27s, total: 2min 25s\n",
      "Wall time: 2min 19s\n"
     ]
    }
   ],
   "source": [
    "import pandas as pd\n",
    "files = [f'/data/ajay/contracode/data/hf_data/feather_tok/train_lz4.feather.{i:02d}' for i in range(11)]\n",
    "%time dfs = thread_map(pd.read_feather, files, max_workers=16)"
   ]
  },
  {
   "cell_type": "code",
   "execution_count": 75,
   "metadata": {},
   "outputs": [
    {
     "data": {
      "text/plain": [
       "['/data/ajay/contracode/data/hf_data/feather_tok/train_lz4.feather.10',\n",
       " '/data/ajay/contracode/data/hf_data/feather_tok/train_lz4.feather.09',\n",
       " '/data/ajay/contracode/data/hf_data/feather_tok/train_lz4.feather.02',\n",
       " '/data/ajay/contracode/data/hf_data/feather_tok/train_lz4.feather.07',\n",
       " '/data/ajay/contracode/data/hf_data/feather_tok/train_lz4.feather.06',\n",
       " '/data/ajay/contracode/data/hf_data/feather_tok/train_lz4.feather.03',\n",
       " '/data/ajay/contracode/data/hf_data/feather_tok/train_lz4.feather.04',\n",
       " '/data/ajay/contracode/data/hf_data/feather_tok/train_lz4.feather.00',\n",
       " '/data/ajay/contracode/data/hf_data/feather_tok/train_lz4.feather.08',\n",
       " '/data/ajay/contracode/data/hf_data/feather_tok/train_lz4.feather.01',\n",
       " '/data/ajay/contracode/data/hf_data/feather_tok/train_lz4.feather.05']"
      ]
     },
     "execution_count": 75,
     "metadata": {},
     "output_type": "execute_result"
    }
   ],
   "source": [
    "import glob\n",
    "from pathlib import Path\n",
    "glob.glob('/data/ajay/contracode/data/hf_data/feather_tok/train_lz4.feather' + '*')"
   ]
  },
  {
   "cell_type": "code",
   "execution_count": null,
   "metadata": {},
   "outputs": [],
   "source": []
  }
 ],
 "metadata": {
  "kernelspec": {
   "display_name": "Python 3",
   "language": "python",
   "name": "python3"
  },
  "language_info": {
   "codemirror_mode": {
    "name": "ipython",
    "version": 3
   },
   "file_extension": ".py",
   "mimetype": "text/x-python",
   "name": "python",
   "nbconvert_exporter": "python",
   "pygments_lexer": "ipython3",
   "version": "3.8.0"
  }
 },
 "nbformat": 4,
 "nbformat_minor": 4
}
