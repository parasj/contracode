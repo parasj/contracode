{
 "cells": [
  {
   "cell_type": "code",
   "execution_count": 28,
   "metadata": {},
   "outputs": [
    {
     "name": "stdout",
     "output_type": "stream",
     "text": [
      "/work/paras/contracode\n",
      "Requirement already satisfied: tables in /data/paras/miniconda3/lib/python3.7/site-packages (3.6.1)\n",
      "Collecting pyarrow\n",
      "  Downloading pyarrow-1.0.1-cp37-cp37m-manylinux2014_x86_64.whl (17.3 MB)\n",
      "\u001b[K     |████████████████████████████████| 17.3 MB 5.8 MB/s eta 0:00:01\n",
      "\u001b[?25hRequirement already satisfied: numexpr>=2.6.2 in /data/paras/miniconda3/lib/python3.7/site-packages (from tables) (2.7.1)\n",
      "Requirement already satisfied: numpy>=1.9.3 in /data/paras/miniconda3/lib/python3.7/site-packages (from tables) (1.18.1)\n",
      "Installing collected packages: pyarrow\n",
      "Successfully installed pyarrow-1.0.1\n"
     ]
    }
   ],
   "source": [
    "%cd /work/paras/contracode\n",
    "!pip install tables pyarrow\n",
    "import numpy as np\n",
    "import pandas as pd\n",
    "import pickle\n",
    "import gzip\n",
    "from tqdm.auto import tqdm"
   ]
  },
  {
   "cell_type": "code",
   "execution_count": 16,
   "metadata": {},
   "outputs": [
    {
     "data": {
      "application/vnd.jupyter.widget-view+json": {
       "model_id": "d34a094cd53045918a114abac499bf42",
       "version_major": 2,
       "version_minor": 0
      },
      "text/plain": [
       "HBox(children=(FloatProgress(value=0.0, max=1843099.0), HTML(value='')))"
      ]
     },
     "metadata": {},
     "output_type": "display_data"
    },
    {
     "name": "stdout",
     "output_type": "stream",
     "text": [
      "\n"
     ]
    }
   ],
   "source": [
    "with gzip.open('data/codesearchnet_javascript/javascript_augmented.pickle.gz') as f:\n",
    "    data = pickle.load(f)\n",
    "\n",
    "flattened_data = []\n",
    "for idx, x in enumerate(tqdm(data)):\n",
    "    for item in x:\n",
    "        flattened_data.append(dict(data_idx=idx, text=item))\n",
    "\n",
    "df = pd.DataFrame(flattened_data)\n",
    "\n",
    "del data\n",
    "del flattened_data"
   ]
  },
  {
   "cell_type": "code",
   "execution_count": 18,
   "metadata": {},
   "outputs": [],
   "source": [
    "del data\n",
    "del flattened_data"
   ]
  },
  {
   "cell_type": "code",
   "execution_count": 30,
   "metadata": {},
   "outputs": [],
   "source": [
    "df.to_parquet('data/codesearchnet_javascript/augmented_data.parquet', engine='pyarrow')"
   ]
  },
  {
   "cell_type": "code",
   "execution_count": 36,
   "metadata": {},
   "outputs": [
    {
     "name": "stdout",
     "output_type": "stream",
     "text": [
      "CPU times: user 1min 7s, sys: 1min 24s, total: 2min 31s\n",
      "Wall time: 2min 20s\n"
     ]
    }
   ],
   "source": [
    "%time df = loaded_df.read_parquet('data/codesearchnet_javascript/augmented_data.parquet')\n",
    "loaded_df = loaded_df.sample(frac=1).reset_index(drop=True)  # shuffle dataset"
   ]
  },
  {
   "cell_type": "code",
   "execution_count": 38,
   "metadata": {},
   "outputs": [
    {
     "data": {
      "text/plain": [
       "Index               128\n",
       "data_idx      150969496\n",
       "text        32440872427\n",
       "dtype: int64"
      ]
     },
     "execution_count": 38,
     "metadata": {},
     "output_type": "execute_result"
    }
   ],
   "source": [
    "loaded_df.memory_usage(deep=True)"
   ]
  },
  {
   "cell_type": "code",
   "execution_count": 39,
   "metadata": {},
   "outputs": [
    {
     "data": {
      "text/html": [
       "<div>\n",
       "<style scoped>\n",
       "    .dataframe tbody tr th:only-of-type {\n",
       "        vertical-align: middle;\n",
       "    }\n",
       "\n",
       "    .dataframe tbody tr th {\n",
       "        vertical-align: top;\n",
       "    }\n",
       "\n",
       "    .dataframe thead th {\n",
       "        text-align: right;\n",
       "    }\n",
       "</style>\n",
       "<table border=\"1\" class=\"dataframe\">\n",
       "  <thead>\n",
       "    <tr style=\"text-align: right;\">\n",
       "      <th></th>\n",
       "      <th>data_idx</th>\n",
       "      <th>text</th>\n",
       "    </tr>\n",
       "  </thead>\n",
       "  <tbody>\n",
       "    <tr>\n",
       "      <th>0</th>\n",
       "      <td>0</td>\n",
       "      <td>function x(grammar, flyFire) {\\n    var fixSco...</td>\n",
       "    </tr>\n",
       "    <tr>\n",
       "      <th>1</th>\n",
       "      <td>0</td>\n",
       "      <td>function x(grammar,replacementScope){grammar.n...</td>\n",
       "    </tr>\n",
       "    <tr>\n",
       "      <th>2</th>\n",
       "      <td>0</td>\n",
       "      <td>function x(grammar, surrounded) {\\n  grammar.n...</td>\n",
       "    </tr>\n",
       "    <tr>\n",
       "      <th>3</th>\n",
       "      <td>0</td>\n",
       "      <td>function x(grammar, replacementScope) {\\n  gra...</td>\n",
       "    </tr>\n",
       "    <tr>\n",
       "      <th>4</th>\n",
       "      <td>0</td>\n",
       "      <td>function x(bow, replacementScope) {\\n  bow.nam...</td>\n",
       "    </tr>\n",
       "    <tr>\n",
       "      <th>...</th>\n",
       "      <td>...</td>\n",
       "      <td>...</td>\n",
       "    </tr>\n",
       "    <tr>\n",
       "      <th>18871182</th>\n",
       "      <td>1843098</td>\n",
       "      <td>const x = async function (model, pg) {\\n  let ...</td>\n",
       "    </tr>\n",
       "    <tr>\n",
       "      <th>18871183</th>\n",
       "      <td>1843098</td>\n",
       "      <td>const x = async function(t, e) {\\n  let o, i =...</td>\n",
       "    </tr>\n",
       "    <tr>\n",
       "      <th>18871184</th>\n",
       "      <td>1843098</td>\n",
       "      <td>const x = async function (model, pg) {\\n\\n  tr...</td>\n",
       "    </tr>\n",
       "    <tr>\n",
       "      <th>18871185</th>\n",
       "      <td>1843098</td>\n",
       "      <td>const x = async function(t, e) {\\n    let o, i...</td>\n",
       "    </tr>\n",
       "    <tr>\n",
       "      <th>18871186</th>\n",
       "      <td>1843098</td>\n",
       "      <td>const x = async function (model, pg) {\\n    le...</td>\n",
       "    </tr>\n",
       "  </tbody>\n",
       "</table>\n",
       "<p>18871187 rows × 2 columns</p>\n",
       "</div>"
      ],
      "text/plain": [
       "          data_idx                                               text\n",
       "0                0  function x(grammar, flyFire) {\\n    var fixSco...\n",
       "1                0  function x(grammar,replacementScope){grammar.n...\n",
       "2                0  function x(grammar, surrounded) {\\n  grammar.n...\n",
       "3                0  function x(grammar, replacementScope) {\\n  gra...\n",
       "4                0  function x(bow, replacementScope) {\\n  bow.nam...\n",
       "...            ...                                                ...\n",
       "18871182   1843098  const x = async function (model, pg) {\\n  let ...\n",
       "18871183   1843098  const x = async function(t, e) {\\n  let o, i =...\n",
       "18871184   1843098  const x = async function (model, pg) {\\n\\n  tr...\n",
       "18871185   1843098  const x = async function(t, e) {\\n    let o, i...\n",
       "18871186   1843098  const x = async function (model, pg) {\\n    le...\n",
       "\n",
       "[18871187 rows x 2 columns]"
      ]
     },
     "execution_count": 39,
     "metadata": {},
     "output_type": "execute_result"
    }
   ],
   "source": [
    "loaded_df"
   ]
  },
  {
   "cell_type": "code",
   "execution_count": null,
   "metadata": {},
   "outputs": [],
   "source": [
    "tok"
   ]
  }
 ],
 "metadata": {
  "kernelspec": {
   "display_name": "Python 3",
   "language": "python",
   "name": "python3"
  },
  "language_info": {
   "codemirror_mode": {
    "name": "ipython",
    "version": 3
   },
   "file_extension": ".py",
   "mimetype": "text/x-python",
   "name": "python",
   "nbconvert_exporter": "python",
   "pygments_lexer": "ipython3",
   "version": "3.7.7"
  }
 },
 "nbformat": 4,
 "nbformat_minor": 4
}
