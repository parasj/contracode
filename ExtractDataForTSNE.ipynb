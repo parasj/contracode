{
 "cells": [
  {
   "cell_type": "code",
   "execution_count": 48,
   "metadata": {},
   "outputs": [],
   "source": [
    "import jsonlines\n",
    "import random\n",
    "from pprint import pprint\n",
    "from tqdm.auto import tqdm\n",
    "import pickle"
   ]
  },
  {
   "cell_type": "code",
   "execution_count": 69,
   "metadata": {},
   "outputs": [],
   "source": [
    "def load_data(fname):\n",
    "    with jsonlines.open(fname) as reader:\n",
    "        return list(reader)\n",
    "data = load_data('data/codesearchnet_javascript/javascript_train_supervised.jsonl')\n",
    "\n",
    "def extract_fields(fields, gen):\n",
    "    for item in gen:\n",
    "        yield \n",
    "\n",
    "def parse_data(key, data):\n",
    "    matches = filter(lambda x: key.lower() == x['func_name'].lower(), data)\n",
    "    extracted_matches = map(lambda item: {k: v for k, v in item.items() if k in ['func_name', 'code']}, matches)\n",
    "    return list(extracted_matches)"
   ]
  },
  {
   "cell_type": "code",
   "execution_count": 74,
   "metadata": {},
   "outputs": [
    {
     "name": "stdout",
     "output_type": "stream",
     "text": [
      "sort 39\n",
      "download 22\n",
      "search 38\n",
      "clone 81\n",
      "bundle 23\n",
      "destroy 60\n",
      "query 42\n",
      "shuffle 15\n",
      "append 24\n",
      "log 98\n",
      "forEach 43\n"
     ]
    }
   ],
   "source": [
    "keys = ['sort', 'download', 'search', 'clone', 'bundle', 'destroy', 'query', 'shuffle', 'append', 'log', 'forEach']\n",
    "matches = {}\n",
    "for key in keys:\n",
    "    matches[key] = parse_data(key, data)\n",
    "n_matches = sum(map(len, matches.values()))\n",
    "# matches['negatives'] = random.sample(data, n_matches)\n",
    "\n",
    "for k, v in matches.items():\n",
    "    print(k, len(v))"
   ]
  },
  {
   "cell_type": "code",
   "execution_count": 75,
   "metadata": {},
   "outputs": [],
   "source": [
    "with open('data/codesearchnet_javascript/tsne_programs.pickle', 'wb') as f:\n",
    "    pickle.dump(matches, f)"
   ]
  },
  {
   "cell_type": "code",
   "execution_count": null,
   "metadata": {},
   "outputs": [],
   "source": []
  }
 ],
 "metadata": {
  "kernelspec": {
   "display_name": "Python 3",
   "language": "python",
   "name": "python3"
  },
  "language_info": {
   "codemirror_mode": {
    "name": "ipython",
    "version": 3
   },
   "file_extension": ".py",
   "mimetype": "text/x-python",
   "name": "python",
   "nbconvert_exporter": "python",
   "pygments_lexer": "ipython3",
   "version": "3.7.6"
  }
 },
 "nbformat": 4,
 "nbformat_minor": 4
}
